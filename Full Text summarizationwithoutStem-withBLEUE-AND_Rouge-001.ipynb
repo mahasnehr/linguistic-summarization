{
 "cells": [
  {
   "cell_type": "code",
   "execution_count": 1,
   "id": "grave-richardson",
   "metadata": {},
   "outputs": [
    {
     "name": "stderr",
     "output_type": "stream",
     "text": [
      "Using TensorFlow backend.\n"
     ]
    }
   ],
   "source": [
    "import keras\n",
    "from keras_self_attention import SeqSelfAttention"
   ]
  },
  {
   "cell_type": "code",
   "execution_count": 2,
   "id": "animated-moisture",
   "metadata": {},
   "outputs": [
    {
     "name": "stdout",
     "output_type": "stream",
     "text": [
      "Requirement already satisfied: nltk in c:\\users\\ruba\\anaconda3\\lib\\site-packages (3.5)\n",
      "Requirement already satisfied: tqdm in c:\\users\\ruba\\anaconda3\\lib\\site-packages (from nltk) (4.59.0)\n",
      "Requirement already satisfied: joblib in c:\\users\\ruba\\anaconda3\\lib\\site-packages (from nltk) (1.0.1)\n",
      "Requirement already satisfied: click in c:\\users\\ruba\\anaconda3\\lib\\site-packages (from nltk) (7.1.2)\n",
      "Requirement already satisfied: regex in c:\\users\\ruba\\anaconda3\\lib\\site-packages (from nltk) (2021.3.17)\n"
     ]
    }
   ],
   "source": [
    "!pip install nltk\n",
    "from nltk.translate.bleu_score import sentence_bleu"
   ]
  },
  {
   "cell_type": "code",
   "execution_count": 3,
   "id": "weighted-currency",
   "metadata": {},
   "outputs": [
    {
     "name": "stdout",
     "output_type": "stream",
     "text": [
      "Requirement already satisfied: rouge in c:\\users\\ruba\\anaconda3\\lib\\site-packages (1.0.0)\n",
      "Requirement already satisfied: six in c:\\users\\ruba\\appdata\\roaming\\python\\python38\\site-packages (from rouge) (1.15.0)\n"
     ]
    }
   ],
   "source": [
    "!pip install rouge\n",
    "from rouge import Rouge"
   ]
  },
  {
   "cell_type": "code",
   "execution_count": 4,
   "id": "wrapped-phoenix",
   "metadata": {},
   "outputs": [],
   "source": [
    "import numpy as np\n",
    "import pandas as pd \n",
    "import re\n",
    "from bs4 import BeautifulSoup\n",
    "from keras.preprocessing.text import Tokenizer \n",
    "from keras.preprocessing.sequence import pad_sequences\n",
    "from nltk.corpus import stopwords\n",
    "from tensorflow.keras.layers import Input, LSTM, Embedding, Dense, Concatenate, TimeDistributed\n",
    "from tensorflow.keras.models import Model\n",
    "from tensorflow.keras.callbacks import EarlyStopping\n",
    "import warnings\n",
    "pd.set_option(\"display.max_colwidth\", 200)\n",
    "warnings.filterwarnings(\"ignore\")"
   ]
  },
  {
   "cell_type": "code",
   "execution_count": 5,
   "id": "successful-rainbow",
   "metadata": {},
   "outputs": [],
   "source": [
    "data=pd.read_csv(\"C:/Users/Ruba/Downloads/Reviews.csv\",nrows=100000)"
   ]
  },
  {
   "cell_type": "code",
   "execution_count": 6,
   "id": "higher-glass",
   "metadata": {},
   "outputs": [],
   "source": [
    "data.drop_duplicates(subset=['Text'],inplace=True)#dropping duplicates\n",
    "data.dropna(axis=0,inplace=True)#dropping na"
   ]
  },
  {
   "cell_type": "code",
   "execution_count": 7,
   "id": "dense-status",
   "metadata": {},
   "outputs": [
    {
     "name": "stdout",
     "output_type": "stream",
     "text": [
      "<class 'pandas.core.frame.DataFrame'>\n",
      "Int64Index: 88421 entries, 0 to 99999\n",
      "Data columns (total 10 columns):\n",
      " #   Column                  Non-Null Count  Dtype \n",
      "---  ------                  --------------  ----- \n",
      " 0   Id                      88421 non-null  int64 \n",
      " 1   ProductId               88421 non-null  object\n",
      " 2   UserId                  88421 non-null  object\n",
      " 3   ProfileName             88421 non-null  object\n",
      " 4   HelpfulnessNumerator    88421 non-null  int64 \n",
      " 5   HelpfulnessDenominator  88421 non-null  int64 \n",
      " 6   Score                   88421 non-null  int64 \n",
      " 7   Time                    88421 non-null  int64 \n",
      " 8   abstract                88421 non-null  object\n",
      " 9   Text                    88421 non-null  object\n",
      "dtypes: int64(5), object(5)\n",
      "memory usage: 7.4+ MB\n"
     ]
    }
   ],
   "source": [
    "data.info()"
   ]
  },
  {
   "cell_type": "code",
   "execution_count": 8,
   "id": "continuous-factor",
   "metadata": {},
   "outputs": [],
   "source": [
    "contraction_mapping = {\"ain't\": \"is not\", \"aren't\": \"are not\",\"can't\": \"cannot\", \"'cause\": \"because\", \"could've\": \"could have\", \"couldn't\": \"could not\",\n",
    "                           \"didn't\": \"did not\",  \"doesn't\": \"does not\", \"don't\": \"do not\", \"hadn't\": \"had not\", \"hasn't\": \"has not\", \"haven't\": \"have not\",\n",
    "                           \"he'd\": \"he would\",\"he'll\": \"he will\", \"he's\": \"he is\", \"how'd\": \"how did\", \"how'd'y\": \"how do you\", \"how'll\": \"how will\", \"how's\": \"how is\",\n",
    "                           \"I'd\": \"I would\", \"I'd've\": \"I would have\", \"I'll\": \"I will\", \"I'll've\": \"I will have\",\"I'm\": \"I am\", \"I've\": \"I have\", \"i'd\": \"i would\",\n",
    "                           \"i'd've\": \"i would have\", \"i'll\": \"i will\",  \"i'll've\": \"i will have\",\"i'm\": \"i am\", \"i've\": \"i have\", \"isn't\": \"is not\", \"it'd\": \"it would\",\n",
    "                           \"it'd've\": \"it would have\", \"it'll\": \"it will\", \"it'll've\": \"it will have\",\"it's\": \"it is\", \"let's\": \"let us\", \"ma'am\": \"madam\",\n",
    "                           \"mayn't\": \"may not\", \"might've\": \"might have\",\"mightn't\": \"might not\",\"mightn't've\": \"might not have\", \"must've\": \"must have\",\n",
    "                           \"mustn't\": \"must not\", \"mustn't've\": \"must not have\", \"needn't\": \"need not\", \"needn't've\": \"need not have\",\"o'clock\": \"of the clock\",\n",
    "                           \"oughtn't\": \"ought not\", \"oughtn't've\": \"ought not have\", \"shan't\": \"shall not\", \"sha'n't\": \"shall not\", \"shan't've\": \"shall not have\",\n",
    "                           \"she'd\": \"she would\", \"she'd've\": \"she would have\", \"she'll\": \"she will\", \"she'll've\": \"she will have\", \"she's\": \"she is\",\n",
    "                           \"should've\": \"should have\", \"shouldn't\": \"should not\", \"shouldn't've\": \"should not have\", \"so've\": \"so have\",\"so's\": \"so as\",\n",
    "                           \"this's\": \"this is\",\"that'd\": \"that would\", \"that'd've\": \"that would have\", \"that's\": \"that is\", \"there'd\": \"there would\",\n",
    "                           \"there'd've\": \"there would have\", \"there's\": \"there is\", \"here's\": \"here is\",\"they'd\": \"they would\", \"they'd've\": \"they would have\",\n",
    "                           \"they'll\": \"they will\", \"they'll've\": \"they will have\", \"they're\": \"they are\", \"they've\": \"they have\", \"to've\": \"to have\",\n",
    "                           \"wasn't\": \"was not\", \"we'd\": \"we would\", \"we'd've\": \"we would have\", \"we'll\": \"we will\", \"we'll've\": \"we will have\", \"we're\": \"we are\",\n",
    "                           \"we've\": \"we have\", \"weren't\": \"were not\", \"what'll\": \"what will\", \"what'll've\": \"what will have\", \"what're\": \"what are\",\n",
    "                           \"what's\": \"what is\", \"what've\": \"what have\", \"when's\": \"when is\", \"when've\": \"when have\", \"where'd\": \"where did\", \"where's\": \"where is\",\n",
    "                           \"where've\": \"where have\", \"who'll\": \"who will\", \"who'll've\": \"who will have\", \"who's\": \"who is\", \"who've\": \"who have\",\n",
    "                           \"why's\": \"why is\", \"why've\": \"why have\", \"will've\": \"will have\", \"won't\": \"will not\", \"won't've\": \"will not have\",\n",
    "                           \"would've\": \"would have\", \"wouldn't\": \"would not\", \"wouldn't've\": \"would not have\", \"y'all\": \"you all\",\n",
    "                           \"y'all'd\": \"you all would\",\"y'all'd've\": \"you all would have\",\"y'all're\": \"you all are\",\"y'all've\": \"you all have\",\n",
    "                           \"you'd\": \"you would\", \"you'd've\": \"you would have\", \"you'll\": \"you will\", \"you'll've\": \"you will have\",\n",
    "                           \"you're\": \"you are\", \"you've\": \"you have\"}"
   ]
  },
  {
   "cell_type": "code",
   "execution_count": 9,
   "id": "conventional-there",
   "metadata": {},
   "outputs": [
    {
     "name": "stderr",
     "output_type": "stream",
     "text": [
      "[nltk_data] Downloading package stopwords to\n",
      "[nltk_data]     C:\\Users\\Ruba\\AppData\\Roaming\\nltk_data...\n",
      "[nltk_data]   Package stopwords is already up-to-date!\n"
     ]
    },
    {
     "data": {
      "text/plain": [
       "True"
      ]
     },
     "execution_count": 9,
     "metadata": {},
     "output_type": "execute_result"
    }
   ],
   "source": [
    "import nltk\n",
    "nltk.download('stopwords')"
   ]
  },
  {
   "cell_type": "code",
   "execution_count": 10,
   "id": "unlikely-short",
   "metadata": {},
   "outputs": [],
   "source": [
    "stop_words = set(stopwords.words('english'))"
   ]
  },
  {
   "cell_type": "code",
   "execution_count": 11,
   "id": "overhead-certificate",
   "metadata": {},
   "outputs": [],
   "source": [
    "from nltk.tokenize import sent_tokenize, word_tokenize\n",
    "#from nltk.stem import PorterStemmer\n",
    "from nltk.stem import SnowballStemmer\n",
    "#porter=PorterStemmer()\n",
    "sb_stem =SnowballStemmer(\"english\")\n",
    "def stemSentence(sentence):\n",
    "    token_words=word_tokenize(sentence)\n",
    "    token_words\n",
    "    stem_sentence=[]\n",
    "    for word in token_words:\n",
    "        stem_sentence.append(sb_stem.stem(word))\n",
    "        stem_sentence.append(\" \")\n",
    "    return \"\".join(stem_sentence)\n",
    "\n"
   ]
  },
  {
   "cell_type": "code",
   "execution_count": 12,
   "id": "according-cancer",
   "metadata": {},
   "outputs": [],
   "source": [
    "\n",
    "def text_cleaner(text,num):\n",
    "    newString = text.lower()\n",
    "    newString = BeautifulSoup(newString, \"lxml\").text\n",
    "    newString = re.sub(r'\\([^)]*\\)', '', newString)\n",
    "    newString = re.sub('\"','', newString)\n",
    "    newString = ' '.join([contraction_mapping[t] if t in contraction_mapping else t for t in newString.split(\" \")])    \n",
    "    newString = re.sub(r\"'s\\b\",\"\",newString)\n",
    "    newString = re.sub(\"[^a-zA-Z]\", \" \", newString) \n",
    "    newString = re.sub('[m]{2,}', 'mm', newString)\n",
    "    if(num==0):\n",
    "        tokens = [w for w in newString.split() if not w in stop_words]\n",
    "    else:\n",
    "        tokens=newString.split()\n",
    "    long_words=[]\n",
    "    for i in tokens:\n",
    "        if len(i)>1:                                                 #removing short word\n",
    "            long_words.append(i)   \n",
    "    return (\" \".join(long_words)).strip()"
   ]
  },
  {
   "cell_type": "code",
   "execution_count": 13,
   "id": "prescribed-wilson",
   "metadata": {},
   "outputs": [],
   "source": [
    "#call the function\n",
    "cleaned_text = []\n",
    "for t in data['Text']:\n",
    "    cleaned_text.append(text_cleaner(t,0))"
   ]
  },
  {
   "cell_type": "code",
   "execution_count": 14,
   "id": "medieval-assurance",
   "metadata": {},
   "outputs": [
    {
     "data": {
      "text/plain": [
       "['bought several vitality canned dog food products found good quality product looks like stew processed meat smells better labrador finicky appreciates product better',\n",
       " 'product arrived labeled jumbo salted peanuts peanuts actually small sized unsalted sure error vendor intended represent product jumbo',\n",
       " 'confection around centuries light pillowy citrus gelatin nuts case filberts cut tiny squares liberally coated powdered sugar tiny mouthful heaven chewy flavorful highly recommend yummy treat familiar story lewis lion witch wardrobe treat seduces edmund selling brother sisters witch',\n",
       " 'looking secret ingredient robitussin believe found got addition root beer extract ordered made cherry soda flavor medicinal',\n",
       " 'great taffy great price wide assortment yummy taffy delivery quick taffy lover deal']"
      ]
     },
     "execution_count": 14,
     "metadata": {},
     "output_type": "execute_result"
    }
   ],
   "source": [
    "cleaned_text[:5]"
   ]
  },
  {
   "cell_type": "code",
   "execution_count": 15,
   "id": "basic-island",
   "metadata": {},
   "outputs": [
    {
     "data": {
      "text/plain": [
       "['bought several vitality canned dog food products found good quality product looks like stew processed meat smells better labrador finicky appreciates product better',\n",
       " 'product arrived labeled jumbo salted peanuts peanuts actually small sized unsalted sure error vendor intended represent product jumbo',\n",
       " 'confection around centuries light pillowy citrus gelatin nuts case filberts cut tiny squares liberally coated powdered sugar tiny mouthful heaven chewy flavorful highly recommend yummy treat familiar story lewis lion witch wardrobe treat seduces edmund selling brother sisters witch',\n",
       " 'looking secret ingredient robitussin believe found got addition root beer extract ordered made cherry soda flavor medicinal',\n",
       " 'great taffy great price wide assortment yummy taffy delivery quick taffy lover deal']"
      ]
     },
     "execution_count": 15,
     "metadata": {},
     "output_type": "execute_result"
    }
   ],
   "source": [
    "cleaned_text[:5]"
   ]
  },
  {
   "cell_type": "code",
   "execution_count": 16,
   "id": "loose-korea",
   "metadata": {},
   "outputs": [],
   "source": [
    "#call the function\n",
    "cleaned_abstract = []\n",
    "for t in data['abstract']:\n",
    "    cleaned_abstract.append(text_cleaner(t,1))"
   ]
  },
  {
   "cell_type": "code",
   "execution_count": 17,
   "id": "golden-advertising",
   "metadata": {},
   "outputs": [
    {
     "data": {
      "text/plain": [
       "['good quality dog food',\n",
       " 'not as advertised',\n",
       " 'delight says it all',\n",
       " 'cough medicine',\n",
       " 'great taffy',\n",
       " 'nice taffy',\n",
       " 'great just as good as the expensive brands',\n",
       " 'wonderful tasty taffy',\n",
       " 'yay barley',\n",
       " 'healthy dog food']"
      ]
     },
     "execution_count": 17,
     "metadata": {},
     "output_type": "execute_result"
    }
   ],
   "source": [
    "cleaned_abstract[:10]"
   ]
  },
  {
   "cell_type": "code",
   "execution_count": 18,
   "id": "direct-blast",
   "metadata": {},
   "outputs": [],
   "source": [
    "#restore values of text / abstract after cleaning process \n",
    "data['cleaned_text']=cleaned_text\n",
    "data['cleaned_abstract']=cleaned_abstract"
   ]
  },
  {
   "cell_type": "code",
   "execution_count": 19,
   "id": "saved-whole",
   "metadata": {},
   "outputs": [],
   "source": [
    "#remove empty spaces and NA ones\n",
    "data.replace('', np.nan, inplace=True)\n",
    "data.dropna(axis=0,inplace=True)"
   ]
  },
  {
   "cell_type": "code",
   "execution_count": 20,
   "id": "accredited-technician",
   "metadata": {},
   "outputs": [
    {
     "data": {
      "image/png": "[encoded data removed]",
      "text/plain": [
       "<Figure size 432x288 with 2 Axes>"
      ]
     },
     "metadata": {
      "needs_background": "light"
     },
     "output_type": "display_data"
    }
   ],
   "source": [
    "\n",
    "# find the length of sentences in each TEXT / Summay to know the MIN.MAX ranges length\n",
    "import matplotlib.pyplot as plt\n",
    "\n",
    "text_word_count = []\n",
    "abstract_word_count = []\n",
    "\n",
    "# populate the lists with sentence lengths\n",
    "for i in data['cleaned_text']:\n",
    "      text_word_count.append(len(i.split()))\n",
    "\n",
    "for i in data['cleaned_abstract']:\n",
    "      abstract_word_count.append(len(i.split()))\n",
    "\n",
    "length_df = pd.DataFrame({'text':text_word_count, 'abstract':abstract_word_count})\n",
    "\n",
    "length_df.hist(bins = 50)\n",
    "plt.show()"
   ]
  },
  {
   "cell_type": "code",
   "execution_count": 21,
   "id": "incomplete-windsor",
   "metadata": {},
   "outputs": [],
   "source": [
    "# limit the length of MAX \n",
    "max_text_len=30\n",
    "max_abstract_len=8"
   ]
  },
  {
   "cell_type": "code",
   "execution_count": 22,
   "id": "coral-seven",
   "metadata": {},
   "outputs": [],
   "source": [
    "# remove the shorter ones than the MAX (max_text_len) limite above\n",
    "cleaned_text =np.array(data['cleaned_text'])\n",
    "cleaned_abstract=np.array(data['cleaned_abstract'])\n",
    "\n",
    "short_text=[]\n",
    "short_abstract=[]\n",
    "\n",
    "for i in range(len(cleaned_text)):\n",
    "    if(len(cleaned_abstract[i].split())<=max_abstract_len and len(cleaned_text[i].split())<=max_text_len):\n",
    "        short_text.append(cleaned_text[i])\n",
    "        short_abstract.append(cleaned_abstract[i])\n",
    "        \n",
    "df=pd.DataFrame({'text':short_text,'abstract':short_abstract})"
   ]
  },
  {
   "cell_type": "code",
   "execution_count": 23,
   "id": "bearing-variable",
   "metadata": {},
   "outputs": [],
   "source": [
    "# add START and END special tokens (StartTok EndToken)\n",
    "df['abstract'] = df['abstract'].apply(lambda x : 'sostok '+ x + ' eostok')"
   ]
  },
  {
   "cell_type": "code",
   "execution_count": 24,
   "id": "superb-contact",
   "metadata": {},
   "outputs": [],
   "source": [
    "# splitting the data 90/10 using train_test_split function\n",
    "from sklearn.model_selection import train_test_split\n",
    "x_train,x_validate,y_train,y_validate=train_test_split(np.array(df['text']),np.array(df['abstract']),test_size=0.2,random_state=0,shuffle=True)"
   ]
  },
  {
   "cell_type": "code",
   "execution_count": 25,
   "id": "documented-finance",
   "metadata": {},
   "outputs": [],
   "source": [
    "#EPU_train, EPU_test = train_test_split(np.array(df['text']),np.array(df['abstract']),test_size=0.2)"
   ]
  },
  {
   "cell_type": "code",
   "execution_count": 26,
   "id": "macro-activation",
   "metadata": {},
   "outputs": [],
   "source": [
    "#Text Tokenizer \n",
    "\n",
    "from keras.preprocessing.text import Tokenizer \n",
    "from keras.preprocessing.sequence import pad_sequences\n",
    "\n",
    "#prepare a tokenizer for reviews on x_train data\n",
    "x_tokenizer = Tokenizer() \n",
    "x_tokenizer.fit_on_texts(list(x_train))"
   ]
  },
  {
   "cell_type": "code",
   "execution_count": 27,
   "id": "decimal-optimization",
   "metadata": {},
   "outputs": [
    {
     "name": "stdout",
     "output_type": "stream",
     "text": [
      "Number of rare words in vocabulary: 0.6600245898164243\n",
      "Total Coverage of rare words: 0.031248176630529916\n"
     ]
    }
   ],
   "source": [
    "\n",
    "# find the least used words by count limit here is 4times\n",
    "threshold=4 \n",
    "\n",
    "count=0\n",
    "tot_count=0\n",
    "freq=0\n",
    "tot_freq=0\n",
    "\n",
    "for key,value in x_tokenizer.word_counts.items():\n",
    "    tot_count=tot_count+1\n",
    "    tot_freq=tot_freq+value\n",
    "    if(value<threshold):\n",
    "        count=count+1\n",
    "        freq=freq+value\n",
    "    \n",
    "print(\"Number of rare words in vocabulary:\",(count/tot_count))\n",
    "print(\"Total Coverage of rare words:\",(freq/tot_freq))"
   ]
  },
  {
   "cell_type": "code",
   "execution_count": 28,
   "id": "excellent-uniform",
   "metadata": {},
   "outputs": [],
   "source": [
    "x_tokenizer = Tokenizer(num_words=tot_count-count) "
   ]
  },
  {
   "cell_type": "code",
   "execution_count": 29,
   "id": "ongoing-reproduction",
   "metadata": {},
   "outputs": [
    {
     "name": "stdout",
     "output_type": "stream",
     "text": [
      "8019\n"
     ]
    }
   ],
   "source": [
    "print(tot_count-count)"
   ]
  },
  {
   "cell_type": "code",
   "execution_count": 30,
   "id": "registered-activation",
   "metadata": {},
   "outputs": [],
   "source": [
    "#prepare a tokenizer for reviews on training data\n",
    "words_count=tot_count-count #6716\n",
    "x_tokenizer = Tokenizer(num_words=6716) \n",
    "x_tokenizer.fit_on_texts(list(x_train))\n",
    "\n",
    "#convert text sequences into integer sequences texts_to_sequences\n",
    "x_train_seq    =   x_tokenizer.texts_to_sequences(x_train) \n",
    "x_validate_seq   =   x_tokenizer.texts_to_sequences(x_validate)\n",
    "\n",
    "#post padding  zero upto maximum length to unify the sentences lengths   \n",
    "x_train    =   pad_sequences(x_train_seq,  maxlen=max_text_len, padding='post')\n",
    "x_validate   =   pad_sequences(x_validate_seq, maxlen=max_text_len, padding='post')\n",
    "\n",
    "#size of vocabulary ( +1 for padding token)\n",
    "x_vocabulary   =  x_tokenizer.num_words + 1"
   ]
  },
  {
   "cell_type": "code",
   "execution_count": 31,
   "id": "beginning-subscriber",
   "metadata": {},
   "outputs": [
    {
     "data": {
      "text/plain": [
       "6717"
      ]
     },
     "execution_count": 31,
     "metadata": {},
     "output_type": "execute_result"
    }
   ],
   "source": [
    "x_vocabulary"
   ]
  },
  {
   "cell_type": "code",
   "execution_count": 32,
   "id": "czech-label",
   "metadata": {},
   "outputs": [],
   "source": [
    "#prepare a tokenizer for reviews on training data\n",
    "y_tokenizer = Tokenizer()   \n",
    "y_tokenizer.fit_on_texts(list(y_train))"
   ]
  },
  {
   "cell_type": "code",
   "execution_count": 33,
   "id": "chubby-interim",
   "metadata": {},
   "outputs": [
    {
     "name": "stdout",
     "output_type": "stream",
     "text": [
      "number of rare words in vocabulary: 0.786850969915205\n",
      "Total Coverage of rare words: 0.05761720726007163\n"
     ]
    }
   ],
   "source": [
    "threshold=6\n",
    "\n",
    "count=0\n",
    "tot_count=0\n",
    "freq=0\n",
    "tot_freq=0\n",
    "\n",
    "for key,value in y_tokenizer.word_counts.items():\n",
    "    tot_count=tot_count+1\n",
    "    tot_freq=tot_freq+value\n",
    "    if(value<threshold):\n",
    "        count=count+1\n",
    "        freq=freq+value\n",
    "    \n",
    "print(\"number of rare words in vocabulary:\",(count/tot_count))\n",
    "print(\"Total Coverage of rare words:\",(freq/tot_freq))"
   ]
  },
  {
   "cell_type": "code",
   "execution_count": 34,
   "id": "collectible-effectiveness",
   "metadata": {},
   "outputs": [
    {
     "name": "stdout",
     "output_type": "stream",
     "text": [
      "1835\n"
     ]
    }
   ],
   "source": [
    "words_count=tot_count-count\n",
    "print(words_count)"
   ]
  },
  {
   "cell_type": "code",
   "execution_count": 35,
   "id": "comparative-shuttle",
   "metadata": {},
   "outputs": [],
   "source": [
    "#prepare a tokenizer for reviews on training data\n",
    "\n",
    "words_count=tot_count-count\n",
    "y_tokenizer = Tokenizer(num_words=words_count) \n",
    "y_tokenizer.fit_on_texts(list(y_train))\n",
    "\n",
    "#convert text sequences into integer sequences using texts_to_sequences\n",
    "y_train_seq    =   y_tokenizer.texts_to_sequences(y_train) \n",
    "y_validate_seq   =   y_tokenizer.texts_to_sequences(y_validate) \n",
    "\n",
    "#padding zero upto maximum length\n",
    "y_train    =   pad_sequences(y_train_seq, maxlen=max_abstract_len, padding='post')\n",
    "y_validate   =   pad_sequences(y_validate_seq, maxlen=max_abstract_len, padding='post')\n",
    "\n",
    "#size of vocabulary\n",
    "y_vocabulary  =   y_tokenizer.num_words +1"
   ]
  },
  {
   "cell_type": "code",
   "execution_count": 36,
   "id": "macro-steal",
   "metadata": {},
   "outputs": [
    {
     "data": {
      "text/plain": [
       "(37744, 37744)"
      ]
     },
     "execution_count": 36,
     "metadata": {},
     "output_type": "execute_result"
    }
   ],
   "source": [
    "y_tokenizer.word_counts['sostok'],len(y_train) # those must be equal"
   ]
  },
  {
   "cell_type": "code",
   "execution_count": 37,
   "id": "eleven-spray",
   "metadata": {},
   "outputs": [],
   "source": [
    "from keras import backend as K\n",
    "from tensorflow.python.framework import ops\n",
    "ops.reset_default_graph()"
   ]
  },
  {
   "cell_type": "code",
   "execution_count": 38,
   "id": "special-renaissance",
   "metadata": {},
   "outputs": [],
   "source": [
    "import tensorflow as tf\n",
    "#K.clear_session()\n",
    "tf.keras.backend.clear_session()"
   ]
  },
  {
   "cell_type": "code",
   "execution_count": 39,
   "id": "needed-ownership",
   "metadata": {},
   "outputs": [],
   "source": [
    "ind=[]\n",
    "for i in range(len(y_validate)):\n",
    "    cnt=0\n",
    "    for j in y_validate[i]:\n",
    "        if j!=0:\n",
    "            cnt=cnt+1\n",
    "    if(cnt==2):\n",
    "        ind.append(i)\n",
    "\n",
    "y_validate=np.delete(y_validate,ind, axis=0)\n",
    "x_validate=np.delete(x_validate,ind, axis=0)"
   ]
  },
  {
   "cell_type": "code",
   "execution_count": 40,
   "id": "interracial-phoenix",
   "metadata": {},
   "outputs": [],
   "source": [
    "from tensorflow.keras.layers import Attention\n",
    "from attention import AttentionLayer"
   ]
  },
  {
   "cell_type": "code",
   "execution_count": 41,
   "id": "senior-gathering",
   "metadata": {},
   "outputs": [],
   "source": [
    "from attention import AttentionLayer"
   ]
  },
  {
   "cell_type": "code",
   "execution_count": 42,
   "id": "aggressive-wholesale",
   "metadata": {},
   "outputs": [
    {
     "name": "stdout",
     "output_type": "stream",
     "text": [
      "Model: \"model\"\n",
      "__________________________________________________________________________________________________\n",
      "Layer (type)                    Output Shape         Param #     Connected to                     \n",
      "==================================================================================================\n",
      "input_1 (InputLayer)            [(None, 30)]         0                                            \n",
      "__________________________________________________________________________________________________\n",
      "embedding (Embedding)           (None, 30, 100)      671700      input_1[0][0]                    \n",
      "__________________________________________________________________________________________________\n",
      "lstm (LSTM)                     [(None, 30, 300), (N 481200      embedding[0][0]                  \n",
      "__________________________________________________________________________________________________\n",
      "input_2 (InputLayer)            [(None, None)]       0                                            \n",
      "__________________________________________________________________________________________________\n",
      "lstm_1 (LSTM)                   [(None, 30, 300), (N 721200      lstm[0][0]                       \n",
      "__________________________________________________________________________________________________\n",
      "embedding_1 (Embedding)         (None, None, 100)    183600      input_2[0][0]                    \n",
      "__________________________________________________________________________________________________\n",
      "lstm_2 (LSTM)                   [(None, 30, 300), (N 721200      lstm_1[0][0]                     \n",
      "__________________________________________________________________________________________________\n",
      "lstm_3 (LSTM)                   [(None, None, 300),  481200      embedding_1[0][0]                \n",
      "                                                                 lstm_2[0][1]                     \n",
      "                                                                 lstm_2[0][2]                     \n",
      "__________________________________________________________________________________________________\n",
      "attention_layer (AttentionLayer ((None, None, 300),  180300      lstm_2[0][0]                     \n",
      "                                                                 lstm_3[0][0]                     \n",
      "__________________________________________________________________________________________________\n",
      "concat_layer (Concatenate)      (None, None, 600)    0           lstm_3[0][0]                     \n",
      "                                                                 attention_layer[0][0]            \n",
      "__________________________________________________________________________________________________\n",
      "time_distributed (TimeDistribut (None, None, 1836)   1103436     concat_layer[0][0]               \n",
      "==================================================================================================\n",
      "Total params: 4,543,836\n",
      "Trainable params: 4,543,836\n",
      "Non-trainable params: 0\n",
      "__________________________________________________________________________________________________\n"
     ]
    }
   ],
   "source": [
    "from keras import backend as K \n",
    "#K.clear_session()\n",
    "\n",
    "latent_dim = 300\n",
    "embedding_dim=100\n",
    "\n",
    "# Encoder\n",
    "encoder_inputs = Input(shape=(max_text_len,))\n",
    "\n",
    "#embedding layer\n",
    "enc_emb =  Embedding(x_vocabulary, embedding_dim,trainable=True)(encoder_inputs)\n",
    "\n",
    "#encoder lstm 1\n",
    "encoder_lstm1 = LSTM(latent_dim,return_sequences=True,return_state=True,dropout=0.4,recurrent_dropout=0.4)\n",
    "encoder_output1, state_h1, state_c1 = encoder_lstm1(enc_emb)\n",
    "\n",
    "#encoder lstm 2\n",
    "encoder_lstm2 = LSTM(latent_dim,return_sequences=True,return_state=True,dropout=0.4,recurrent_dropout=0.4)\n",
    "encoder_output2, state_h2, state_c2 = encoder_lstm2(encoder_output1)\n",
    "\n",
    "#encoder lstm 3\n",
    "encoder_lstm3=LSTM(latent_dim, return_state=True, return_sequences=True,dropout=0.4,recurrent_dropout=0.4)\n",
    "encoder_outputs, state_h, state_c= encoder_lstm3(encoder_output2)\n",
    "\n",
    "# Set up the decoder, using `encoder_states` as initial state.\n",
    "decoder_inputs = Input(shape=(None,))\n",
    "\n",
    "#embedding layer\n",
    "dec_emb_layer = Embedding(y_vocabulary, embedding_dim,trainable=True)\n",
    "dec_emb = dec_emb_layer(decoder_inputs)\n",
    "\n",
    "decoder_lstm = LSTM(latent_dim, return_sequences=True, return_state=True,dropout=0.4,recurrent_dropout=0.2)\n",
    "decoder_outputs,decoder_fwd_state, decoder_back_state = decoder_lstm(dec_emb,initial_state=[state_h, state_c])\n",
    "\n",
    "# Attention layer\n",
    "attn_layer = AttentionLayer(name='attention_layer')\n",
    "attn_out, attn_states = attn_layer([encoder_outputs, decoder_outputs])\n",
    "\n",
    "# Concat attention input and decoder LSTM output\n",
    "decoder_concat_input = Concatenate(axis=-1, name='concat_layer')([decoder_outputs, attn_out])\n",
    "\n",
    "#dense layer\n",
    "decoder_dense =  TimeDistributed(Dense(y_vocabulary, activation='softmax'))\n",
    "decoder_outputs = decoder_dense(decoder_concat_input)\n",
    "\n",
    "# Define the model \n",
    "model = Model([encoder_inputs, decoder_inputs], decoder_outputs)\n",
    "\n",
    "model.summary()"
   ]
  },
  {
   "cell_type": "code",
   "execution_count": 43,
   "id": "disturbed-virgin",
   "metadata": {},
   "outputs": [
    {
     "data": {
      "text/plain": [
       "tensorflow.python.keras.layers.dense_attention.Attention"
      ]
     },
     "execution_count": 43,
     "metadata": {},
     "output_type": "execute_result"
    }
   ],
   "source": [
    "tf.keras.layers.Attention"
   ]
  },
  {
   "cell_type": "code",
   "execution_count": 44,
   "id": "chemical-commissioner",
   "metadata": {},
   "outputs": [],
   "source": [
    "model.compile(optimizer='adam', loss='sparse_categorical_crossentropy')"
   ]
  },
  {
   "cell_type": "code",
   "execution_count": 45,
   "id": "grave-consumption",
   "metadata": {},
   "outputs": [],
   "source": [
    "#es = EarlyStopping(monitor='val_loss', mode='min', verbose=1,patience=2)\n",
    "es = EarlyStopping(patience=1, monitor='val_loss', restore_best_weights=True) #accuracy, loss, val_loss, val_accuracy"
   ]
  },
  {
   "cell_type": "code",
   "execution_count": 46,
   "id": "forbidden-drawing",
   "metadata": {},
   "outputs": [
    {
     "name": "stdout",
     "output_type": "stream",
     "text": [
      "Epoch 1/16\n",
      "295/295 [==============================] - 532s 2s/step - loss: 3.3619 - val_loss: 2.5959\n",
      "Epoch 2/16\n",
      "295/295 [==============================] - 556s 2s/step - loss: 2.5374 - val_loss: 2.4800\n",
      "Epoch 3/16\n",
      "295/295 [==============================] - 541s 2s/step - loss: 2.3948 - val_loss: 2.3945\n",
      "Epoch 4/16\n",
      "295/295 [==============================] - 556s 2s/step - loss: 2.3135 - val_loss: 2.3341\n",
      "Epoch 5/16\n",
      "295/295 [==============================] - 514s 2s/step - loss: 2.2388 - val_loss: 2.2789\n",
      "Epoch 6/16\n",
      "295/295 [==============================] - 515s 2s/step - loss: 2.1708 - val_loss: 2.1935\n",
      "Epoch 7/16\n",
      "295/295 [==============================] - 522s 2s/step - loss: 2.0669 - val_loss: 2.1413\n",
      "Epoch 8/16\n",
      "295/295 [==============================] - 523s 2s/step - loss: 1.9984 - val_loss: 2.1096\n",
      "Epoch 9/16\n",
      "295/295 [==============================] - 524s 2s/step - loss: 1.9262 - val_loss: 2.0816\n",
      "Epoch 10/16\n",
      "295/295 [==============================] - 527s 2s/step - loss: 1.8517 - val_loss: 2.0548\n",
      "Epoch 11/16\n",
      "295/295 [==============================] - 520s 2s/step - loss: 1.7992 - val_loss: 2.0426\n",
      "Epoch 12/16\n",
      "295/295 [==============================] - 520s 2s/step - loss: 1.7472 - val_loss: 2.0346\n",
      "Epoch 13/16\n",
      "295/295 [==============================] - 517s 2s/step - loss: 1.6924 - val_loss: 2.0362\n"
     ]
    }
   ],
   "source": [
    "history=model.fit([x_train,y_train[:,:-1]], y_train.reshape(y_train.shape[0],y_train.shape[1], 1)[:,1:] ,\n",
    "                  epochs=16,callbacks=[es],batch_size=128, \n",
    "                  validation_data=([x_validate,y_validate[:,:-1]], y_validate.reshape(y_validate.shape[0],y_validate.shape[1], 1)[:,1:]))\n",
    "model.save('encoder_decoder_17.h5')"
   ]
  },
  {
   "cell_type": "code",
   "execution_count": 47,
   "id": "painful-sullivan",
   "metadata": {},
   "outputs": [
    {
     "data": {
      "image/png": "[encoded data removed]",
      "text/plain": [
       "<Figure size 432x288 with 1 Axes>"
      ]
     },
     "metadata": {
      "needs_background": "light"
     },
     "output_type": "display_data"
    }
   ],
   "source": [
    "from matplotlib import pyplot\n",
    "pyplot.plot(history.history['loss'], label='train')\n",
    "pyplot.plot(history.history['val_loss'], label='test')\n",
    "pyplot.legend()\n",
    "pyplot.show()"
   ]
  },
  {
   "cell_type": "code",
   "execution_count": 48,
   "id": "involved-needle",
   "metadata": {},
   "outputs": [],
   "source": [
    "reverse_target_word_index=y_tokenizer.index_word\n",
    "reverse_source_word_index=x_tokenizer.index_word\n",
    "target_word_index=y_tokenizer.word_index"
   ]
  },
  {
   "cell_type": "code",
   "execution_count": null,
   "id": "spread-cutting",
   "metadata": {},
   "outputs": [],
   "source": []
  },
  {
   "cell_type": "code",
   "execution_count": 49,
   "id": "antique-harmony",
   "metadata": {},
   "outputs": [],
   "source": [
    "### inference layer\n",
    "# Encode the input sequence to get the feature vector\n",
    "encoder_model = Model(inputs=encoder_inputs,outputs=[encoder_outputs, state_h, state_c])\n",
    "\n",
    "# Decoder setup\n",
    "# Below tensors will hold the states of the previous time step\n",
    "decoder_state_input_h = Input(shape=(latent_dim,))\n",
    "decoder_state_input_c = Input(shape=(latent_dim,))\n",
    "decoder_hidden_state_input = Input(shape=(max_text_len,latent_dim))\n",
    "\n",
    "# Get the embeddings of the decoder sequence\n",
    "dec_emb2= dec_emb_layer(decoder_inputs) \n",
    "# To predict the next word in the sequence, set the initial states to the states from the previous time step\n",
    "decoder_outputs2, state_h2, state_c2 = decoder_lstm(dec_emb2, initial_state=[decoder_state_input_h, decoder_state_input_c])\n",
    "\n",
    "#attention inference\n",
    "attn_out_inf, attn_states_inf = attn_layer([decoder_hidden_state_input, decoder_outputs2])\n",
    "decoder_inf_concat = Concatenate(axis=-1, name='concat')([decoder_outputs2, attn_out_inf])\n",
    "\n",
    "# A dense softmax layer to generate prob dist. over the target vocabulary\n",
    "decoder_outputs2 = decoder_dense(decoder_inf_concat) \n",
    "\n",
    "# Final decoder model\n",
    "decoder_model = Model(\n",
    "    [decoder_inputs] + [decoder_hidden_state_input,decoder_state_input_h, decoder_state_input_c],\n",
    "    [decoder_outputs2] + [state_h2, state_c2])"
   ]
  },
  {
   "cell_type": "code",
   "execution_count": 50,
   "id": "material-scoop",
   "metadata": {},
   "outputs": [],
   "source": [
    "#@ prediction Phase"
   ]
  },
  {
   "cell_type": "code",
   "execution_count": 51,
   "id": "latin-seating",
   "metadata": {},
   "outputs": [],
   "source": [
    "def decode_sequence(input_seq):\n",
    "    # Encode the input as state vectors.\n",
    "    e_out, e_h, e_c = encoder_model.predict(input_seq)\n",
    "    \n",
    "    # Generate empty target sequence of length 1.\n",
    "    target_seq = np.zeros((1,1))\n",
    "    \n",
    "    # Populate the first word of target sequence with the start word.\n",
    "    target_seq[0, 0] = target_word_index['sostok']\n",
    "\n",
    "    stop_condition = False\n",
    "    decoded_sentence = ''\n",
    "    while not stop_condition:\n",
    "      \n",
    "        output_tokens, h, c = decoder_model.predict([target_seq] + [e_out, e_h, e_c])\n",
    "\n",
    "        # Sample a token\n",
    "        sampled_token_index = np.argmax(output_tokens[0, -1, :])\n",
    "        sampled_token = reverse_target_word_index[sampled_token_index]\n",
    "        \n",
    "        if(sampled_token!='eostok'):\n",
    "            decoded_sentence += ' '+sampled_token\n",
    "\n",
    "        # Exit condition: either hit max length or find stop word.\n",
    "        if (sampled_token == 'eostok'  or len(decoded_sentence.split()) >= (max_abstract_len-1)):\n",
    "            stop_condition = True\n",
    "\n",
    "        # Update the target sequence (of length 1).\n",
    "        target_seq = np.zeros((1,1))\n",
    "        target_seq[0, 0] = sampled_token_index\n",
    "\n",
    "        # Update internal states\n",
    "        e_h, e_c = h, c\n",
    "\n",
    "    return decoded_sentence"
   ]
  },
  {
   "cell_type": "code",
   "execution_count": 52,
   "id": "accomplished-landscape",
   "metadata": {},
   "outputs": [],
   "source": [
    "def seq2abstract(input_seq):\n",
    "    newString=''\n",
    "    for i in input_seq:\n",
    "        if((i!=0 and i!=target_word_index['sostok']) and i!=target_word_index['eostok']):\n",
    "            newString=newString+reverse_target_word_index[i]+' '\n",
    "    return newString\n",
    "\n",
    "def seq2text(input_seq):\n",
    "    newString=''\n",
    "    for i in input_seq:\n",
    "        if(i!=0):\n",
    "            newString=newString+reverse_source_word_index[i]+' '\n",
    "    return newString"
   ]
  },
  {
   "cell_type": "code",
   "execution_count": 53,
   "id": "consistent-translator",
   "metadata": {
    "scrolled": false
   },
   "outputs": [
    {
     "name": "stdout",
     "output_type": "stream",
     "text": [
      "Review: fog chaser great bold body taste unlike brands leave harsh taste great product recommend \n",
      "Original abstract: great taste \n",
      "Predicted abstract:  great coffee\n",
      "\n",
      "\n",
      "Review: fish great fresh sea black years like remembered thank reminds home ordering fish \n",
      "Original abstract: great fish \n",
      "Predicted abstract:  great taste\n",
      "\n",
      "\n"
     ]
    }
   ],
   "source": [
    "for i in range(0,2):\n",
    "    print(\"Review:\",seq2text(x_train[i]))\n",
    "    print(\"Original abstract:\",seq2abstract(y_train[i]))\n",
    "    print(\"Predicted abstract:\",decode_sequence(x_train[i].reshape(1,max_text_len)))\n",
    "    print(\"\\n\")"
   ]
  },
  {
   "cell_type": "code",
   "execution_count": 54,
   "id": "functional-subcommittee",
   "metadata": {},
   "outputs": [
    {
     "name": "stdout",
     "output_type": "stream",
     "text": [
      "Review: simply bar simply fantastic love vegan high protein helpful need find alternative protein sources also provide amazing flavors favorite peanut butter one \n",
      "Original summary: simply awesome \n",
      "Predicted summary:  delicious\n",
      "\n",
      "\n",
      "Review: longer find flavored tea stores amazon place get thanks amazon \n",
      "Original summary: raspberry tea \n",
      "Predicted summary:  great tea\n",
      "\n",
      "\n"
     ]
    }
   ],
   "source": [
    "for i in range(0,2):\n",
    "    print(\"Review:\",seq2text(x_validate[i]))\n",
    "    print(\"Original summary:\",seq2abstract(y_validate[i]))\n",
    "    print(\"Predicted summary:\",decode_sequence(x_validate[i].reshape(1,max_text_len)))\n",
    "    print(\"\\n\")"
   ]
  },
  {
   "cell_type": "code",
   "execution_count": 55,
   "id": "competitive-yeast",
   "metadata": {},
   "outputs": [],
   "source": [
    "EPU_seq = data[['abstract', 'Text']]"
   ]
  },
  {
   "cell_type": "code",
   "execution_count": 58,
   "id": "owned-neighborhood",
   "metadata": {},
   "outputs": [
    {
     "data": {
      "text/plain": [
       "88354"
      ]
     },
     "execution_count": 58,
     "metadata": {},
     "output_type": "execute_result"
    }
   ],
   "source": [
    "len(EPU_seq)"
   ]
  },
  {
   "cell_type": "code",
   "execution_count": 59,
   "id": "starting-hacker",
   "metadata": {},
   "outputs": [],
   "source": [
    "EPU_train, EPU_test = train_test_split(EPU_seq, test_size=.10)"
   ]
  },
  {
   "cell_type": "code",
   "execution_count": 60,
   "id": "failing-breakfast",
   "metadata": {},
   "outputs": [
    {
     "name": "stdout",
     "output_type": "stream",
     "text": [
      "(79518, 2)\n",
      "(8836, 2)\n"
     ]
    }
   ],
   "source": [
    "print(EPU_train.shape)\n",
    "print(EPU_test.shape)"
   ]
  },
  {
   "cell_type": "code",
   "execution_count": 62,
   "id": "racial-tunisia",
   "metadata": {},
   "outputs": [
    {
     "data": {
      "text/plain": [
       "[1747, 1940, 1, 316, 770, 6, 807, 212, 691, 2217, 6, 1, 5, 38]"
      ]
     },
     "execution_count": 62,
     "metadata": {},
     "output_type": "execute_result"
    }
   ],
   "source": [
    "x_train_seq[0]"
   ]
  },
  {
   "cell_type": "code",
   "execution_count": 65,
   "id": "angry-bobby",
   "metadata": {},
   "outputs": [
    {
     "data": {
      "text/plain": [
       "66852                                              Extremely Good\n",
       "57579                                                 Over Priced\n",
       "58849                                                  Yam treats\n",
       "21264                                               Teenie Weenie\n",
       "93068    Yum... using leftover cooked roast chicken in the fridge\n",
       "                                   ...                           \n",
       "26595                                          What a great idea!\n",
       "33029                                 I like it but my kids don't\n",
       "39126                                                        bpa?\n",
       "40041                                  Thought I was going to die\n",
       "63721                                       It Just Wasn't For Me\n",
       "Name: abstract, Length: 79518, dtype: object"
      ]
     },
     "execution_count": 65,
     "metadata": {},
     "output_type": "execute_result"
    }
   ],
   "source": [
    "EPU_train['abstract']"
   ]
  },
  {
   "cell_type": "code",
   "execution_count": 70,
   "id": "detailed-ceremony",
   "metadata": {},
   "outputs": [
    {
     "data": {
      "text/plain": [
       "(37744,)"
      ]
     },
     "execution_count": 70,
     "metadata": {},
     "output_type": "execute_result"
    }
   ],
   "source": [
    "EPU_train['Text'][:37744].shape"
   ]
  },
  {
   "cell_type": "code",
   "execution_count": 69,
   "id": "painted-forwarding",
   "metadata": {},
   "outputs": [
    {
     "data": {
      "text/plain": [
       "(37744, 30)"
      ]
     },
     "execution_count": 69,
     "metadata": {},
     "output_type": "execute_result"
    }
   ],
   "source": [
    "x_train.shape"
   ]
  },
  {
   "cell_type": "code",
   "execution_count": null,
   "id": "occupied-senior",
   "metadata": {},
   "outputs": [],
   "source": [
    "#max_text_len=30\n",
    "#max_abstract_len=8"
   ]
  },
  {
   "cell_type": "code",
   "execution_count": 72,
   "id": "tough-principle",
   "metadata": {},
   "outputs": [],
   "source": [
    "EPU_train['Text'][:37744] = [decode_sequence(sequence.reshape(1, max_text_len)) for sequence in x_train]\n",
    "\n",
    "EPU_train.to_csv('EPU complete_train_full01.csv')"
   ]
  },
  {
   "cell_type": "code",
   "execution_count": 73,
   "id": "unique-lingerie",
   "metadata": {},
   "outputs": [
    {
     "data": {
      "text/plain": [
       "(9158, 30)"
      ]
     },
     "execution_count": 73,
     "metadata": {},
     "output_type": "execute_result"
    }
   ],
   "source": [
    "x_validate.shape"
   ]
  },
  {
   "cell_type": "code",
   "execution_count": 74,
   "id": "serial-moscow",
   "metadata": {},
   "outputs": [
    {
     "data": {
      "text/plain": [
       "(79518,)"
      ]
     },
     "execution_count": 74,
     "metadata": {},
     "output_type": "execute_result"
    }
   ],
   "source": [
    "EPU_train['Text'].shape"
   ]
  },
  {
   "cell_type": "code",
   "execution_count": 76,
   "id": "right-cursor",
   "metadata": {},
   "outputs": [
    {
     "data": {
      "text/plain": [
       "(8836,)"
      ]
     },
     "execution_count": 76,
     "metadata": {},
     "output_type": "execute_result"
    }
   ],
   "source": [
    "EPU_test['Text'].shape"
   ]
  },
  {
   "cell_type": "code",
   "execution_count": 77,
   "id": "simple-transcript",
   "metadata": {},
   "outputs": [],
   "source": [
    "#change the shape to match here \n",
    "EPU_test['Text'][:8836] = [decode_sequence(sequence.reshape(1, max_text_len)) for sequence in x_validate[:8836]]\n",
    "EPU_test.to_csv('EPU complete_test_full01.csv')"
   ]
  },
  {
   "cell_type": "code",
   "execution_count": 81,
   "id": "peaceful-constant",
   "metadata": {},
   "outputs": [],
   "source": [
    "#save them and read to array \n",
    "EPU_train_full = pd.read_csv('EPU complete_train_full01.csv')\n",
    "EPU_test_full = pd.read_csv('EPU complete_test_full01.csv')"
   ]
  },
  {
   "cell_type": "code",
   "execution_count": 105,
   "id": "backed-integral",
   "metadata": {},
   "outputs": [],
   "source": [
    "test_df = pd.DataFrame()\n",
    "test_df02 = pd.DataFrame()"
   ]
  },
  {
   "cell_type": "code",
   "execution_count": 126,
   "id": "beneficial-insured",
   "metadata": {},
   "outputs": [],
   "source": [
    "sequences = [seq2text(x_validate[i]) for i in range(len(x_validate))]\n",
    "headlines = [seq2abstract(y_validate[i]) for i in range(len(y_validate))]"
   ]
  },
  {
   "cell_type": "code",
   "execution_count": 127,
   "id": "enormous-technician",
   "metadata": {},
   "outputs": [],
   "source": [
    "#y_validate --test_sequences_headline\n",
    "#x_validate--test_sequences_article"
   ]
  },
  {
   "cell_type": "code",
   "execution_count": 128,
   "id": "actual-serve",
   "metadata": {},
   "outputs": [],
   "source": [
    "test_df['Text'] = sequences\n",
    "test_df['abstract'] = headlines\n"
   ]
  },
  {
   "cell_type": "code",
   "execution_count": 132,
   "id": "soviet-paragraph",
   "metadata": {},
   "outputs": [
    {
     "data": {
      "text/plain": [
       "array([[   1,  247,   40, ...,    0,    0,    0],\n",
       "       [   1,  547,   14, ...,    0,    0,    0],\n",
       "       [   1,   16,    2, ...,    0,    0,    0],\n",
       "       ...,\n",
       "       [   1,    3,   52, ...,    0,    0,    0],\n",
       "       [   1,    9,   17, ...,    0,    0,    0],\n",
       "       [   1, 1619,   91, ...,    0,    0,    0]])"
      ]
     },
     "execution_count": 132,
     "metadata": {},
     "output_type": "execute_result"
    }
   ],
   "source": [
    "y_validate"
   ]
  },
  {
   "cell_type": "code",
   "execution_count": 129,
   "id": "advanced-version",
   "metadata": {},
   "outputs": [
    {
     "data": {
      "text/plain": [
       "3        my dog loves this food\n",
       "41                great product\n",
       "42                  great taste\n",
       "45                 great coffee\n",
       "53                  great taste\n",
       "                 ...           \n",
       "8811              great popcorn\n",
       "8815              great product\n",
       "8820              great product\n",
       "8830                 good stuff\n",
       "8835                great taste\n",
       "Name: Text, Length: 842, dtype: object"
      ]
     },
     "execution_count": 129,
     "metadata": {},
     "output_type": "execute_result"
    }
   ],
   "source": [
    "EPU_test_full['Text']"
   ]
  },
  {
   "cell_type": "code",
   "execution_count": 133,
   "id": "pleasant-painting",
   "metadata": {},
   "outputs": [],
   "source": [
    "test_df['Headline_Gen'] = EPU_test_full['Text'] #test_df02['Text'] = test_df['Headline_Gen']"
   ]
  },
  {
   "cell_type": "code",
   "execution_count": 134,
   "id": "intensive-egypt",
   "metadata": {},
   "outputs": [
    {
     "data": {
      "text/plain": [
       "0                           NaN\n",
       "1                           NaN\n",
       "2                           NaN\n",
       "3        my dog loves this food\n",
       "4                           NaN\n",
       "                 ...           \n",
       "9153                        NaN\n",
       "9154                        NaN\n",
       "9155                        NaN\n",
       "9156                        NaN\n",
       "9157                        NaN\n",
       "Name: Headline_Gen, Length: 9158, dtype: object"
      ]
     },
     "execution_count": 134,
     "metadata": {},
     "output_type": "execute_result"
    }
   ],
   "source": [
    "test_df['Headline_Gen']"
   ]
  },
  {
   "cell_type": "code",
   "execution_count": 135,
   "id": "dependent-chambers",
   "metadata": {},
   "outputs": [],
   "source": [
    "sequences = [seq2text(x_train[i]) for i in range(len(x_train))]\n",
    "headlines = [seq2abstract(y_train[i]) for i in range(len(y_train))]"
   ]
  },
  {
   "cell_type": "code",
   "execution_count": 136,
   "id": "convinced-observer",
   "metadata": {},
   "outputs": [],
   "source": [
    "train_df = pd.DataFrame()\n",
    "train_df02 = pd.DataFrame()"
   ]
  },
  {
   "cell_type": "code",
   "execution_count": 137,
   "id": "cathedral-baghdad",
   "metadata": {},
   "outputs": [],
   "source": [
    "train_df['Text'] = sequences\n",
    "train_df['abstract'] = headlines\n",
    "train_df['Headline_Gen'] = EPU_train_full['Text'] "
   ]
  },
  {
   "cell_type": "code",
   "execution_count": 138,
   "id": "controlling-portrait",
   "metadata": {},
   "outputs": [],
   "source": [
    "EPU_test_full_clean = test_df\n",
    "EPU_train_full_clean = train_df"
   ]
  },
  {
   "cell_type": "code",
   "execution_count": 139,
   "id": "critical-break",
   "metadata": {},
   "outputs": [],
   "source": [
    "EPU_test_full_clean.to_csv('EPU complete_test_full01.csv')\n",
    "EPU_train_full_clean.to_csv('EPU complete_train_full01.csv')"
   ]
  },
  {
   "cell_type": "code",
   "execution_count": 144,
   "id": "thirty-spirit",
   "metadata": {},
   "outputs": [],
   "source": [
    "labels_train = EPU_train[['abstract']]\n",
    "#labels_test = EPU_test[['abstract']]"
   ]
  },
  {
   "cell_type": "code",
   "execution_count": 145,
   "id": "hidden-christopher",
   "metadata": {},
   "outputs": [],
   "source": [
    "EPU_train_full = pd.merge(EPU_train_full, labels_train, left_index=True, right_index=True)\n",
    "EPU_test_full = pd.merge(EPU_test_full, labels_test, left_index=True, right_index=True)"
   ]
  },
  {
   "cell_type": "code",
   "execution_count": 146,
   "id": "vulnerable-auckland",
   "metadata": {},
   "outputs": [
    {
     "data": {
      "text/html": [
       "<div>\n",
       "<style scoped>\n",
       "    .dataframe tbody tr th:only-of-type {\n",
       "        vertical-align: middle;\n",
       "    }\n",
       "\n",
       "    .dataframe tbody tr th {\n",
       "        vertical-align: top;\n",
       "    }\n",
       "\n",
       "    .dataframe thead th {\n",
       "        text-align: right;\n",
       "    }\n",
       "</style>\n",
       "<table border=\"1\" class=\"dataframe\">\n",
       "  <thead>\n",
       "    <tr style=\"text-align: right;\">\n",
       "      <th></th>\n",
       "      <th>Unnamed: 0</th>\n",
       "      <th>abstract_x</th>\n",
       "      <th>Text</th>\n",
       "      <th>abstract_y</th>\n",
       "      <th>ROUGE</th>\n",
       "      <th>abstract_x</th>\n",
       "      <th>abstract_y</th>\n",
       "      <th>abstract</th>\n",
       "    </tr>\n",
       "  </thead>\n",
       "  <tbody>\n",
       "    <tr>\n",
       "      <th>3</th>\n",
       "      <td>90487</td>\n",
       "      <td>Epic Coffee!!</td>\n",
       "      <td>my dog loves this food</td>\n",
       "      <td>Cough Medicine</td>\n",
       "      <td>1.0</td>\n",
       "      <td>Cough Medicine</td>\n",
       "      <td>Cough Medicine</td>\n",
       "      <td>Cough Medicine</td>\n",
       "    </tr>\n",
       "    <tr>\n",
       "      <th>41</th>\n",
       "      <td>47052</td>\n",
       "      <td>Natural Balance Reduced Calorie Formula</td>\n",
       "      <td>great product</td>\n",
       "      <td>Oatmeal For Oatmeal Lovers</td>\n",
       "      <td>1.0</td>\n",
       "      <td>Oatmeal For Oatmeal Lovers</td>\n",
       "      <td>Oatmeal For Oatmeal Lovers</td>\n",
       "      <td>Oatmeal For Oatmeal Lovers</td>\n",
       "    </tr>\n",
       "    <tr>\n",
       "      <th>42</th>\n",
       "      <td>68434</td>\n",
       "      <td>RICE</td>\n",
       "      <td>great taste</td>\n",
       "      <td>Food-Great</td>\n",
       "      <td>1.0</td>\n",
       "      <td>Food-Great</td>\n",
       "      <td>Food-Great</td>\n",
       "      <td>Food-Great</td>\n",
       "    </tr>\n",
       "    <tr>\n",
       "      <th>45</th>\n",
       "      <td>27176</td>\n",
       "      <td>Hey, thatsa spiceea Beef SticK!</td>\n",
       "      <td>great coffee</td>\n",
       "      <td>Hearty Oatmeal</td>\n",
       "      <td>1.0</td>\n",
       "      <td>Hearty Oatmeal</td>\n",
       "      <td>Hearty Oatmeal</td>\n",
       "      <td>Hearty Oatmeal</td>\n",
       "    </tr>\n",
       "    <tr>\n",
       "      <th>53</th>\n",
       "      <td>27083</td>\n",
       "      <td>I lurve me some La Crotch water</td>\n",
       "      <td>great taste</td>\n",
       "      <td>not ass kickin</td>\n",
       "      <td>1.0</td>\n",
       "      <td>not ass kickin</td>\n",
       "      <td>not ass kickin</td>\n",
       "      <td>not ass kickin</td>\n",
       "    </tr>\n",
       "    <tr>\n",
       "      <th>...</th>\n",
       "      <td>...</td>\n",
       "      <td>...</td>\n",
       "      <td>...</td>\n",
       "      <td>...</td>\n",
       "      <td>...</td>\n",
       "      <td>...</td>\n",
       "      <td>...</td>\n",
       "      <td>...</td>\n",
       "    </tr>\n",
       "    <tr>\n",
       "      <th>8811</th>\n",
       "      <td>48524</td>\n",
       "      <td>Amazingly Delicious!</td>\n",
       "      <td>great popcorn</td>\n",
       "      <td>Low-cost Latte</td>\n",
       "      <td>1.0</td>\n",
       "      <td>Low-cost Latte</td>\n",
       "      <td>Low-cost Latte</td>\n",
       "      <td>Low-cost Latte</td>\n",
       "    </tr>\n",
       "    <tr>\n",
       "      <th>8815</th>\n",
       "      <td>67159</td>\n",
       "      <td>Good deal with caveats</td>\n",
       "      <td>great product</td>\n",
       "      <td>Versatile \"must-have\" for your pantry</td>\n",
       "      <td>1.0</td>\n",
       "      <td>Versatile \"must-have\" for your pantry</td>\n",
       "      <td>Versatile \"must-have\" for your pantry</td>\n",
       "      <td>Versatile \"must-have\" for your pantry</td>\n",
       "    </tr>\n",
       "    <tr>\n",
       "      <th>8820</th>\n",
       "      <td>78803</td>\n",
       "      <td>Adult w/GERD</td>\n",
       "      <td>great product</td>\n",
       "      <td>Great product!</td>\n",
       "      <td>1.0</td>\n",
       "      <td>Great product!</td>\n",
       "      <td>Great product!</td>\n",
       "      <td>Great product!</td>\n",
       "    </tr>\n",
       "    <tr>\n",
       "      <th>8830</th>\n",
       "      <td>89179</td>\n",
       "      <td>Organic Coconut Oil Great to cook with</td>\n",
       "      <td>good stuff</td>\n",
       "      <td>Starbucks be gone!</td>\n",
       "      <td>1.0</td>\n",
       "      <td>Starbucks be gone!</td>\n",
       "      <td>Starbucks be gone!</td>\n",
       "      <td>Starbucks be gone!</td>\n",
       "    </tr>\n",
       "    <tr>\n",
       "      <th>8835</th>\n",
       "      <td>53257</td>\n",
       "      <td>Not the puppy food for us</td>\n",
       "      <td>great taste</td>\n",
       "      <td>It was just what I wanted!</td>\n",
       "      <td>1.0</td>\n",
       "      <td>It was just what I wanted!</td>\n",
       "      <td>It was just what I wanted!</td>\n",
       "      <td>It was just what I wanted!</td>\n",
       "    </tr>\n",
       "  </tbody>\n",
       "</table>\n",
       "<p>842 rows × 8 columns</p>\n",
       "</div>"
      ],
      "text/plain": [
       "      Unnamed: 0                               abstract_x  \\\n",
       "3          90487                            Epic Coffee!!   \n",
       "41         47052  Natural Balance Reduced Calorie Formula   \n",
       "42         68434                                     RICE   \n",
       "45         27176          Hey, thatsa spiceea Beef SticK!   \n",
       "53         27083          I lurve me some La Crotch water   \n",
       "...          ...                                      ...   \n",
       "8811       48524                     Amazingly Delicious!   \n",
       "8815       67159                   Good deal with caveats   \n",
       "8820       78803                             Adult w/GERD   \n",
       "8830       89179   Organic Coconut Oil Great to cook with   \n",
       "8835       53257                Not the puppy food for us   \n",
       "\n",
       "                         Text                             abstract_y  ROUGE  \\\n",
       "3      my dog loves this food                         Cough Medicine    1.0   \n",
       "41              great product             Oatmeal For Oatmeal Lovers    1.0   \n",
       "42                great taste                             Food-Great    1.0   \n",
       "45               great coffee                         Hearty Oatmeal    1.0   \n",
       "53                great taste                         not ass kickin    1.0   \n",
       "...                       ...                                    ...    ...   \n",
       "8811            great popcorn                         Low-cost Latte    1.0   \n",
       "8815            great product  Versatile \"must-have\" for your pantry    1.0   \n",
       "8820            great product                         Great product!    1.0   \n",
       "8830               good stuff                     Starbucks be gone!    1.0   \n",
       "8835              great taste             It was just what I wanted!    1.0   \n",
       "\n",
       "                                 abstract_x  \\\n",
       "3                            Cough Medicine   \n",
       "41               Oatmeal For Oatmeal Lovers   \n",
       "42                               Food-Great   \n",
       "45                           Hearty Oatmeal   \n",
       "53                           not ass kickin   \n",
       "...                                     ...   \n",
       "8811                         Low-cost Latte   \n",
       "8815  Versatile \"must-have\" for your pantry   \n",
       "8820                         Great product!   \n",
       "8830                     Starbucks be gone!   \n",
       "8835             It was just what I wanted!   \n",
       "\n",
       "                                 abstract_y  \\\n",
       "3                            Cough Medicine   \n",
       "41               Oatmeal For Oatmeal Lovers   \n",
       "42                               Food-Great   \n",
       "45                           Hearty Oatmeal   \n",
       "53                           not ass kickin   \n",
       "...                                     ...   \n",
       "8811                         Low-cost Latte   \n",
       "8815  Versatile \"must-have\" for your pantry   \n",
       "8820                         Great product!   \n",
       "8830                     Starbucks be gone!   \n",
       "8835             It was just what I wanted!   \n",
       "\n",
       "                                   abstract  \n",
       "3                            Cough Medicine  \n",
       "41               Oatmeal For Oatmeal Lovers  \n",
       "42                               Food-Great  \n",
       "45                           Hearty Oatmeal  \n",
       "53                           not ass kickin  \n",
       "...                                     ...  \n",
       "8811                         Low-cost Latte  \n",
       "8815  Versatile \"must-have\" for your pantry  \n",
       "8820                         Great product!  \n",
       "8830                     Starbucks be gone!  \n",
       "8835             It was just what I wanted!  \n",
       "\n",
       "[842 rows x 8 columns]"
      ]
     },
     "execution_count": 146,
     "metadata": {},
     "output_type": "execute_result"
    }
   ],
   "source": [
    "EPU_test_full"
   ]
  },
  {
   "cell_type": "code",
   "execution_count": null,
   "id": "outstanding-plant",
   "metadata": {},
   "outputs": [],
   "source": [
    "EPU_test_full"
   ]
  },
  {
   "cell_type": "code",
   "execution_count": 147,
   "id": "utility-elephant",
   "metadata": {},
   "outputs": [],
   "source": [
    "EPU_test_full.to_csv('EPU_complete_train_full_FIXED_W_SCORES.csv')"
   ]
  },
  {
   "cell_type": "code",
   "execution_count": 154,
   "id": "color-lesson",
   "metadata": {},
   "outputs": [],
   "source": [
    "rouge = Rouge()\n",
    "def rouge_scoring(row):\n",
    "    reference = str(row['Text'])\n",
    "    candidate = str(row['abstract'])\n",
    "    score = rouge.get_scores(candidate, reference)[0]['rouge-1']['r']\n",
    "\n",
    "    return score"
   ]
  },
  {
   "cell_type": "code",
   "execution_count": 155,
   "id": "elect-batch",
   "metadata": {},
   "outputs": [],
   "source": [
    "\n",
    "EPU_train_full['ROUGE'] = EPU_train_full.apply(lambda row: rouge_scoring(row), axis=1)\n",
    "#EPU_test_full['ROUGE'] = EPU_test_full.apply(lambda row: rouge_scoring(row), axis=1)"
   ]
  },
  {
   "cell_type": "code",
   "execution_count": 156,
   "id": "democratic-stuart",
   "metadata": {},
   "outputs": [],
   "source": [
    "def bleu_scoring(row):\n",
    "\n",
    "    reference = row['Text']\n",
    "    candidate = row['abstract']\n",
    "\n",
    "    reference = [str(reference).split()]\n",
    "    candidate = str(candidate).split()\n",
    "    score = sentence_bleu(reference, candidate, weights=(1, 0, 0, 0))\n",
    "\n",
    "    return score"
   ]
  },
  {
   "cell_type": "code",
   "execution_count": 158,
   "id": "animated-responsibility",
   "metadata": {},
   "outputs": [],
   "source": [
    "EPU_train_full['BLEU'] = EPU_train_full.apply(lambda row: bleu_scoring(row), axis=1)\n",
    "EPU_test_full['BLEU'] = EPU_test_full.apply(lambda row: bleu_scoring(row), axis=1)"
   ]
  },
  {
   "cell_type": "code",
   "execution_count": 163,
   "id": "local-material",
   "metadata": {},
   "outputs": [],
   "source": [
    "def get_first_20(row):\n",
    "\n",
    "    first_20 = ' '.join([word for i, word in enumerate(row['abstract'].split()) if i <=20])\n",
    "    return first_20"
   ]
  },
  {
   "cell_type": "code",
   "execution_count": 164,
   "id": "organic-explosion",
   "metadata": {},
   "outputs": [],
   "source": [
    "EPU_test_full['Bench_Seed'] = EPU_test_full.apply(lambda row: get_first_20(row), axis=1)"
   ]
  },
  {
   "cell_type": "code",
   "execution_count": 165,
   "id": "round-secretariat",
   "metadata": {},
   "outputs": [],
   "source": [
    "EPU_test_full['Baseline_ROUGE'] = EPU_test_full.apply(lambda row: rouge_scoring(row), axis=1)\n",
    "EPU_test_full['Baseline_BLEU'] = EPU_test_full.apply(lambda row: bleu_scoring(row), axis=1)"
   ]
  },
  {
   "cell_type": "code",
   "execution_count": 166,
   "id": "accessory-automation",
   "metadata": {},
   "outputs": [],
   "source": [
    "EPU_test_full.to_csv('EPU_complete_train_full_FIXED_W_SCORES02.csv')"
   ]
  },
  {
   "cell_type": "code",
   "execution_count": 61,
   "id": "historical-carnival",
   "metadata": {},
   "outputs": [
    {
     "data": {
      "text/plain": [
       "37744"
      ]
     },
     "execution_count": 61,
     "metadata": {},
     "output_type": "execute_result"
    }
   ],
   "source": [
    "len(x_train)"
   ]
  },
  {
   "cell_type": "code",
   "execution_count": 78,
   "id": "reduced-replacement",
   "metadata": {},
   "outputs": [
    {
     "data": {
      "text/plain": [
       "(47181,)"
      ]
     },
     "execution_count": 78,
     "metadata": {},
     "output_type": "execute_result"
    }
   ],
   "source": [
    "df['abstract'].shape\n"
   ]
  },
  {
   "cell_type": "code",
   "execution_count": 79,
   "id": "compact-glory",
   "metadata": {},
   "outputs": [
    {
     "data": {
      "text/plain": [
       "(37744, 30)"
      ]
     },
     "execution_count": 79,
     "metadata": {},
     "output_type": "execute_result"
    }
   ],
   "source": [
    "x_train.shape"
   ]
  },
  {
   "cell_type": "code",
   "execution_count": 81,
   "id": "sophisticated-traffic",
   "metadata": {},
   "outputs": [
    {
     "data": {
      "text/plain": [
       "(9158, 30)"
      ]
     },
     "execution_count": 81,
     "metadata": {},
     "output_type": "execute_result"
    }
   ],
   "source": [
    "x_validate.shape"
   ]
  },
  {
   "cell_type": "code",
   "execution_count": 80,
   "id": "explicit-realtor",
   "metadata": {},
   "outputs": [
    {
     "data": {
      "text/plain": [
       "(37744, 7)"
      ]
     },
     "execution_count": 80,
     "metadata": {},
     "output_type": "execute_result"
    }
   ],
   "source": [
    "y_train[:,:-1].shape"
   ]
  },
  {
   "cell_type": "code",
   "execution_count": 76,
   "id": "pressed-newark",
   "metadata": {},
   "outputs": [
    {
     "data": {
      "text/plain": [
       "(47181,)"
      ]
     },
     "execution_count": 76,
     "metadata": {},
     "output_type": "execute_result"
    }
   ],
   "source": [
    "df['text'].shape"
   ]
  },
  {
   "cell_type": "code",
   "execution_count": 65,
   "id": "worth-tribe",
   "metadata": {},
   "outputs": [],
   "source": [
    "EPU_train, EPU_test = train_test_split(EPU_seq, test_size=.20)\n",
    "#df['text'] = x_train[1]\n",
    "#EPU_train=['']\n",
    "#EPU_train['Headline'] =df['text'] \n"
   ]
  },
  {
   "cell_type": "code",
   "execution_count": null,
   "id": "thrown-announcement",
   "metadata": {},
   "outputs": [],
   "source": [
    "#train_sequences_article ----> x_train\n",
    "#train_sequences_headline  ----> y_train[:,:-1]\n",
    "#train_sequences_headline ----> y_train\n",
    "#train_sequences_headline ----> y_train"
   ]
  },
  {
   "cell_type": "code",
   "execution_count": null,
   "id": "outdoor-trinidad",
   "metadata": {},
   "outputs": [],
   "source": [
    "EPU_train['Text']"
   ]
  },
  {
   "cell_type": "code",
   "execution_count": 118,
   "id": "smoking-advocate",
   "metadata": {},
   "outputs": [
    {
     "data": {
      "text/plain": [
       "62514                                                  I have tried many different decaff coffees and 90% of the times they just don't cut it.  But this one was really good, great way to relax in the evening.\n",
       "10301    My day had been nothing exceptional.  I had forgotten to take lunch and the afternoon was dragging.  Upon returning to my desk I saw a bag of these on my desk that had been here for a few days; a ...\n",
       "46716    These 'treats' are the perfect disguise to hide daily meds for my little furballs.  Plus, since they cost about $10 a bag at the store, this price and low shipping fee is a bargain!  Thanks  a bun...\n",
       "61179    I admit that while the structure of this cookie seems familiar, I'm not particularly acquainted with \"Mallomars\". Now, to start with, I'm a cookie lover, a marshmallow lover, and a chocolate lover...\n",
       "32500    I love this Crystal Light ICED TEA PEACH but can no longer find it in my grocery stores. So the other day I ordered it online and maybe because they were out they sent a substitute. They sent Iced...\n",
       "                                                                                                          ...                                                                                                   \n",
       "10830    The flavor of these nuts is similar to cinnamon toast cereal, yet they are filling and healthy, containing little sugar and almost no salt. I would deduct a star for being priced too high both her...\n",
       "45527    Honestly, I always want to write as positive as a review as possible, but I can't think of anything positive to write about this drink.<br /><br />  On one hand, I'm glad i only received one as a ...\n",
       "67641    I should start off by saying that I have never understood the appeal of artificial chocolate flavoring.  Even when I was a kid and a total junk food junkie, the things that were artificially flavo...\n",
       "13089    ANOTHER GREAT WHOLE BEAN FROM COFFEE BEAN DIRECT. WE DRINK A LOT OF COFFEE, AND LIKE BOTH QUALITY AND QUANTITY. SO WE GO FOR COFFEE BEAN DIRECT, AND HAVEN'T TRIED ONE WE DIDN'T LIKE. THIS BREW IS ...\n",
       "52614                                                          Really great decaff coffee.  Tried many different brands and this one is alway fresh and just the right flavor.  I highly recommend this product.\n",
       "Name: Text, Length: 70683, dtype: object"
      ]
     },
     "execution_count": 118,
     "metadata": {},
     "output_type": "execute_result"
    }
   ],
   "source": [
    "EPU_train['Text']"
   ]
  },
  {
   "cell_type": "code",
   "execution_count": 66,
   "id": "organic-prisoner",
   "metadata": {},
   "outputs": [
    {
     "data": {
      "text/plain": [
       "12545    I agree this is not extremely cheesy, but that is what I like about it.  I have been using this for years and only one store near me carried it.  I have recently moved to Florida and can't find it...\n",
       "37023    My grandson is thriving on this formula he was having a lot of difficulty with regular formula and this sensitive one does the trick he has gained inches and pounds and is happy and laughing we th...\n",
       "21859    Jack, our 3 year old LabraDoodle (I refer to him as a \"LabraDingo\" sometimes because he's so nutsy) really enjoyed this Jug -- our second one lasted 7 months of heavy use before the rubberized rop...\n",
       "16591    This Switch Kiwi Berry drink comes is as great, easy to handle, streamlined candy.  However, it does delivery an intense, fruit, flavor.  Great when you really need a sweet fruit recovery from a h...\n",
       "25701    Having tried just about every other vegan jerky item on the market I was excited to find one that is completely gluten-based, offering a very reasonable protein-to-calories ratio (~10%), a reasona...\n",
       "                                                                                                          ...                                                                                                   \n",
       "12816    Used it for two months now.  Not sure it's helped at all.  My dog still thinks she's starving.  I had already cut her back, then cut her back more on recommendation from the product directions.  S...\n",
       "14145    While these are a bit hard for our 17-year old (almost toothless) dog to chew, our much younger (and larger) black lab really enjoys these treats.  Lady could smell them even before I opened the b...\n",
       "7794     The package arrived with all the cans inside of a cardboard tray that was shrink wrapped.  There was no damage to the cans and they tasted just fine.<br /><br />As far as V-8 itself...<br /><br />...\n",
       "59819    Since receiving my Jolokia powder (with very fast shipping), it has quickly become my favorite spice.  The flavor is very reminiscent of Cayenne pepper, except that the Jolokia powder has more fla...\n",
       "74184    This sauce taste is more like an Italian dressing but not a good one is too salty and is hard to find the chipotle on it, I didn't like it the flavor is too artificial for me is like a blend not w...\n",
       "Name: Text, Length: 17671, dtype: object"
      ]
     },
     "execution_count": 66,
     "metadata": {},
     "output_type": "execute_result"
    }
   ],
   "source": [
    "EPU_test['Text']"
   ]
  },
  {
   "cell_type": "code",
   "execution_count": 116,
   "id": "functional-uruguay",
   "metadata": {},
   "outputs": [
    {
     "data": {
      "text/plain": [
       "41243                      I wish they'd omit the veggies\n",
       "10350                                           MSG Alert\n",
       "32641                         Taste's Good & Good For You\n",
       "82572                                        Great recipe\n",
       "80908                       I've eaten these for 15 years\n",
       "                               ...                       \n",
       "96798                     Not crazy about the packaging..\n",
       "82521                   Great Mild-medium flavored coffee\n",
       "35146               Brought back memories of sunny Spain1\n",
       "30495    Good choice for senior cats who tend to throw up\n",
       "37353                              This is a favorite tea\n",
       "Name: abstract, Length: 17671, dtype: object"
      ]
     },
     "execution_count": 116,
     "metadata": {},
     "output_type": "execute_result"
    }
   ],
   "source": [
    "EPU_test['abstract']"
   ]
  },
  {
   "cell_type": "code",
   "execution_count": 67,
   "id": "female-royal",
   "metadata": {},
   "outputs": [
    {
     "data": {
      "text/plain": [
       "57906                          Hard to stop at just a few\n",
       "15089                                      Baby Food Cake\n",
       "89735                             Both of my dogs love it\n",
       "28880                                   Broken to Bits...\n",
       "78804                  Good stuff; questionable packaging\n",
       "                               ...                       \n",
       "21279                                They are the best...\n",
       "2058     Does wonders for one's popularity in the kitchen\n",
       "10467                                                  OK\n",
       "32118                                             Painful\n",
       "13226                                  Customer for life!\n",
       "Name: abstract, Length: 70683, dtype: object"
      ]
     },
     "execution_count": 67,
     "metadata": {},
     "output_type": "execute_result"
    }
   ],
   "source": [
    "EPU_train['abstract']"
   ]
  }
 ],
 "metadata": {
  "kernelspec": {
   "display_name": "Python [conda env:root] *",
   "language": "python",
   "name": "conda-root-py"
  },
  "language_info": {
   "codemirror_mode": {
    "name": "ipython",
    "version": 3
   },
   "file_extension": ".py",
   "mimetype": "text/x-python",
   "name": "python",
   "nbconvert_exporter": "python",
   "pygments_lexer": "ipython3",
   "version": "3.8.8"
  }
 },
 "nbformat": 4,
 "nbformat_minor": 5
}
