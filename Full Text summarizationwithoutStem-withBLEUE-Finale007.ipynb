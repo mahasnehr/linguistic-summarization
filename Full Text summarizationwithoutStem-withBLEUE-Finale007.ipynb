{
 "cells": [
  {
   "cell_type": "code",
   "execution_count": 1,
   "id": "grave-richardson",
   "metadata": {},
   "outputs": [
    {
     "name": "stderr",
     "output_type": "stream",
     "text": [
      "Using TensorFlow backend.\n"
     ]
    }
   ],
   "source": [
    "import keras\n",
    "from keras_self_attention import SeqSelfAttention"
   ]
  },
  {
   "cell_type": "code",
   "execution_count": 2,
   "id": "israeli-department",
   "metadata": {},
   "outputs": [
    {
     "name": "stdout",
     "output_type": "stream",
     "text": [
      "Requirement already satisfied: nltk in c:\\users\\ruba\\anaconda3\\lib\\site-packages (3.5)\n",
      "Requirement already satisfied: tqdm in c:\\users\\ruba\\anaconda3\\lib\\site-packages (from nltk) (4.59.0)\n",
      "Requirement already satisfied: joblib in c:\\users\\ruba\\anaconda3\\lib\\site-packages (from nltk) (1.0.1)\n",
      "Requirement already satisfied: click in c:\\users\\ruba\\anaconda3\\lib\\site-packages (from nltk) (7.1.2)\n",
      "Requirement already satisfied: regex in c:\\users\\ruba\\anaconda3\\lib\\site-packages (from nltk) (2021.3.17)\n"
     ]
    }
   ],
   "source": [
    "!pip install nltk\n",
    "from nltk.translate.bleu_score import sentence_bleu"
   ]
  },
  {
   "cell_type": "code",
   "execution_count": 3,
   "id": "initial-desperate",
   "metadata": {},
   "outputs": [
    {
     "name": "stdout",
     "output_type": "stream",
     "text": [
      "Requirement already satisfied: rouge in c:\\users\\ruba\\anaconda3\\lib\\site-packages (1.0.0)\n",
      "Requirement already satisfied: six in c:\\users\\ruba\\appdata\\roaming\\python\\python38\\site-packages (from rouge) (1.15.0)\n"
     ]
    }
   ],
   "source": [
    "!pip install rouge\n",
    "from rouge import Rouge"
   ]
  },
  {
   "cell_type": "code",
   "execution_count": 4,
   "id": "wrapped-phoenix",
   "metadata": {},
   "outputs": [],
   "source": [
    "import numpy as np\n",
    "import pandas as pd \n",
    "import re\n",
    "from bs4 import BeautifulSoup\n",
    "from keras.preprocessing.text import Tokenizer \n",
    "from keras.preprocessing.sequence import pad_sequences\n",
    "from nltk.corpus import stopwords\n",
    "from tensorflow.keras.layers import Input, LSTM, Embedding, Dense, Concatenate, TimeDistributed\n",
    "from tensorflow.keras.models import Model\n",
    "from tensorflow.keras.callbacks import EarlyStopping\n",
    "import warnings\n",
    "pd.set_option(\"display.max_colwidth\", 200)\n",
    "warnings.filterwarnings(\"ignore\")"
   ]
  },
  {
   "cell_type": "code",
   "execution_count": 5,
   "id": "successful-rainbow",
   "metadata": {},
   "outputs": [],
   "source": [
    "data=pd.read_csv(\"C:/Users/Ruba/Downloads/Reviews.csv\",nrows=100000)"
   ]
  },
  {
   "cell_type": "code",
   "execution_count": 6,
   "id": "higher-glass",
   "metadata": {},
   "outputs": [],
   "source": [
    "data.drop_duplicates(subset=['Text'],inplace=True)#dropping duplicates\n",
    "data.dropna(axis=0,inplace=True)#dropping na"
   ]
  },
  {
   "cell_type": "code",
   "execution_count": 7,
   "id": "dense-status",
   "metadata": {},
   "outputs": [
    {
     "name": "stdout",
     "output_type": "stream",
     "text": [
      "<class 'pandas.core.frame.DataFrame'>\n",
      "Int64Index: 88421 entries, 0 to 99999\n",
      "Data columns (total 10 columns):\n",
      " #   Column                  Non-Null Count  Dtype \n",
      "---  ------                  --------------  ----- \n",
      " 0   Id                      88421 non-null  int64 \n",
      " 1   ProductId               88421 non-null  object\n",
      " 2   UserId                  88421 non-null  object\n",
      " 3   ProfileName             88421 non-null  object\n",
      " 4   HelpfulnessNumerator    88421 non-null  int64 \n",
      " 5   HelpfulnessDenominator  88421 non-null  int64 \n",
      " 6   Score                   88421 non-null  int64 \n",
      " 7   Time                    88421 non-null  int64 \n",
      " 8   abstract                88421 non-null  object\n",
      " 9   Text                    88421 non-null  object\n",
      "dtypes: int64(5), object(5)\n",
      "memory usage: 7.4+ MB\n"
     ]
    }
   ],
   "source": [
    "data.info()"
   ]
  },
  {
   "cell_type": "code",
   "execution_count": 8,
   "id": "continuous-factor",
   "metadata": {},
   "outputs": [],
   "source": [
    "contraction_mapping = {\"ain't\": \"is not\", \"aren't\": \"are not\",\"can't\": \"cannot\", \"'cause\": \"because\", \"could've\": \"could have\", \"couldn't\": \"could not\",\n",
    "                           \"didn't\": \"did not\",  \"doesn't\": \"does not\", \"don't\": \"do not\", \"hadn't\": \"had not\", \"hasn't\": \"has not\", \"haven't\": \"have not\",\n",
    "                           \"he'd\": \"he would\",\"he'll\": \"he will\", \"he's\": \"he is\", \"how'd\": \"how did\", \"how'd'y\": \"how do you\", \"how'll\": \"how will\", \"how's\": \"how is\",\n",
    "                           \"I'd\": \"I would\", \"I'd've\": \"I would have\", \"I'll\": \"I will\", \"I'll've\": \"I will have\",\"I'm\": \"I am\", \"I've\": \"I have\", \"i'd\": \"i would\",\n",
    "                           \"i'd've\": \"i would have\", \"i'll\": \"i will\",  \"i'll've\": \"i will have\",\"i'm\": \"i am\", \"i've\": \"i have\", \"isn't\": \"is not\", \"it'd\": \"it would\",\n",
    "                           \"it'd've\": \"it would have\", \"it'll\": \"it will\", \"it'll've\": \"it will have\",\"it's\": \"it is\", \"let's\": \"let us\", \"ma'am\": \"madam\",\n",
    "                           \"mayn't\": \"may not\", \"might've\": \"might have\",\"mightn't\": \"might not\",\"mightn't've\": \"might not have\", \"must've\": \"must have\",\n",
    "                           \"mustn't\": \"must not\", \"mustn't've\": \"must not have\", \"needn't\": \"need not\", \"needn't've\": \"need not have\",\"o'clock\": \"of the clock\",\n",
    "                           \"oughtn't\": \"ought not\", \"oughtn't've\": \"ought not have\", \"shan't\": \"shall not\", \"sha'n't\": \"shall not\", \"shan't've\": \"shall not have\",\n",
    "                           \"she'd\": \"she would\", \"she'd've\": \"she would have\", \"she'll\": \"she will\", \"she'll've\": \"she will have\", \"she's\": \"she is\",\n",
    "                           \"should've\": \"should have\", \"shouldn't\": \"should not\", \"shouldn't've\": \"should not have\", \"so've\": \"so have\",\"so's\": \"so as\",\n",
    "                           \"this's\": \"this is\",\"that'd\": \"that would\", \"that'd've\": \"that would have\", \"that's\": \"that is\", \"there'd\": \"there would\",\n",
    "                           \"there'd've\": \"there would have\", \"there's\": \"there is\", \"here's\": \"here is\",\"they'd\": \"they would\", \"they'd've\": \"they would have\",\n",
    "                           \"they'll\": \"they will\", \"they'll've\": \"they will have\", \"they're\": \"they are\", \"they've\": \"they have\", \"to've\": \"to have\",\n",
    "                           \"wasn't\": \"was not\", \"we'd\": \"we would\", \"we'd've\": \"we would have\", \"we'll\": \"we will\", \"we'll've\": \"we will have\", \"we're\": \"we are\",\n",
    "                           \"we've\": \"we have\", \"weren't\": \"were not\", \"what'll\": \"what will\", \"what'll've\": \"what will have\", \"what're\": \"what are\",\n",
    "                           \"what's\": \"what is\", \"what've\": \"what have\", \"when's\": \"when is\", \"when've\": \"when have\", \"where'd\": \"where did\", \"where's\": \"where is\",\n",
    "                           \"where've\": \"where have\", \"who'll\": \"who will\", \"who'll've\": \"who will have\", \"who's\": \"who is\", \"who've\": \"who have\",\n",
    "                           \"why's\": \"why is\", \"why've\": \"why have\", \"will've\": \"will have\", \"won't\": \"will not\", \"won't've\": \"will not have\",\n",
    "                           \"would've\": \"would have\", \"wouldn't\": \"would not\", \"wouldn't've\": \"would not have\", \"y'all\": \"you all\",\n",
    "                           \"y'all'd\": \"you all would\",\"y'all'd've\": \"you all would have\",\"y'all're\": \"you all are\",\"y'all've\": \"you all have\",\n",
    "                           \"you'd\": \"you would\", \"you'd've\": \"you would have\", \"you'll\": \"you will\", \"you'll've\": \"you will have\",\n",
    "                           \"you're\": \"you are\", \"you've\": \"you have\"}"
   ]
  },
  {
   "cell_type": "code",
   "execution_count": 9,
   "id": "conventional-there",
   "metadata": {},
   "outputs": [
    {
     "name": "stderr",
     "output_type": "stream",
     "text": [
      "[nltk_data] Downloading package stopwords to\n",
      "[nltk_data]     C:\\Users\\Ruba\\AppData\\Roaming\\nltk_data...\n",
      "[nltk_data]   Package stopwords is already up-to-date!\n"
     ]
    },
    {
     "data": {
      "text/plain": [
       "True"
      ]
     },
     "execution_count": 9,
     "metadata": {},
     "output_type": "execute_result"
    }
   ],
   "source": [
    "import nltk\n",
    "nltk.download('stopwords')"
   ]
  },
  {
   "cell_type": "code",
   "execution_count": 10,
   "id": "unlikely-short",
   "metadata": {},
   "outputs": [],
   "source": [
    "stop_words = set(stopwords.words('english'))"
   ]
  },
  {
   "cell_type": "code",
   "execution_count": 11,
   "id": "overhead-certificate",
   "metadata": {},
   "outputs": [],
   "source": [
    "from nltk.tokenize import sent_tokenize, word_tokenize\n",
    "#from nltk.stem import PorterStemmer\n",
    "from nltk.stem import SnowballStemmer\n",
    "#porter=PorterStemmer()\n",
    "sb_stem =SnowballStemmer(\"english\")\n",
    "def stemSentence(sentence):\n",
    "    token_words=word_tokenize(sentence)\n",
    "    token_words\n",
    "    stem_sentence=[]\n",
    "    for word in token_words:\n",
    "        stem_sentence.append(sb_stem.stem(word))\n",
    "        stem_sentence.append(\" \")\n",
    "    return \"\".join(stem_sentence)\n",
    "\n"
   ]
  },
  {
   "cell_type": "code",
   "execution_count": 12,
   "id": "according-cancer",
   "metadata": {},
   "outputs": [],
   "source": [
    "## Cleaning the text , lower case , removing commas ... etc\n",
    "def text_cleaner(text,num):\n",
    "    newString = text.lower()\n",
    "    newString = BeautifulSoup(newString, \"lxml\").text\n",
    "    newString = re.sub(r'\\([^)]*\\)', '', newString)\n",
    "    newString = re.sub('\"','', newString)\n",
    "    newString = ' '.join([contraction_mapping[t] if t in contraction_mapping else t for t in newString.split(\" \")])    \n",
    "    newString = re.sub(r\"'s\\b\",\"\",newString)\n",
    "    newString = re.sub(\"[^a-zA-Z]\", \" \", newString) \n",
    "    newString = re.sub('[m]{2,}', 'mm', newString)\n",
    "    if(num==0):\n",
    "        tokens = [w for w in newString.split() if not w in stop_words]\n",
    "    else:\n",
    "        tokens=newString.split()\n",
    "    long_words=[]\n",
    "    for i in tokens:\n",
    "        if len(i)>1:                                                 #removing short word\n",
    "            long_words.append(i)   \n",
    "    return (\" \".join(long_words)).strip()"
   ]
  },
  {
   "cell_type": "code",
   "execution_count": 13,
   "id": "prescribed-wilson",
   "metadata": {},
   "outputs": [],
   "source": [
    "#call the function\n",
    "cleaned_text = []\n",
    "for t in data['Text']:\n",
    "    cleaned_text.append(text_cleaner(t,0))"
   ]
  },
  {
   "cell_type": "code",
   "execution_count": 14,
   "id": "medieval-assurance",
   "metadata": {},
   "outputs": [
    {
     "data": {
      "text/plain": [
       "['bought several vitality canned dog food products found good quality product looks like stew processed meat smells better labrador finicky appreciates product better',\n",
       " 'product arrived labeled jumbo salted peanuts peanuts actually small sized unsalted sure error vendor intended represent product jumbo',\n",
       " 'confection around centuries light pillowy citrus gelatin nuts case filberts cut tiny squares liberally coated powdered sugar tiny mouthful heaven chewy flavorful highly recommend yummy treat familiar story lewis lion witch wardrobe treat seduces edmund selling brother sisters witch',\n",
       " 'looking secret ingredient robitussin believe found got addition root beer extract ordered made cherry soda flavor medicinal',\n",
       " 'great taffy great price wide assortment yummy taffy delivery quick taffy lover deal']"
      ]
     },
     "execution_count": 14,
     "metadata": {},
     "output_type": "execute_result"
    }
   ],
   "source": [
    "cleaned_text[:5]"
   ]
  },
  {
   "cell_type": "code",
   "execution_count": 15,
   "id": "basic-island",
   "metadata": {},
   "outputs": [
    {
     "data": {
      "text/plain": [
       "['bought several vitality canned dog food products found good quality product looks like stew processed meat smells better labrador finicky appreciates product better',\n",
       " 'product arrived labeled jumbo salted peanuts peanuts actually small sized unsalted sure error vendor intended represent product jumbo',\n",
       " 'confection around centuries light pillowy citrus gelatin nuts case filberts cut tiny squares liberally coated powdered sugar tiny mouthful heaven chewy flavorful highly recommend yummy treat familiar story lewis lion witch wardrobe treat seduces edmund selling brother sisters witch',\n",
       " 'looking secret ingredient robitussin believe found got addition root beer extract ordered made cherry soda flavor medicinal',\n",
       " 'great taffy great price wide assortment yummy taffy delivery quick taffy lover deal']"
      ]
     },
     "execution_count": 15,
     "metadata": {},
     "output_type": "execute_result"
    }
   ],
   "source": [
    "cleaned_text[:5]"
   ]
  },
  {
   "cell_type": "code",
   "execution_count": 16,
   "id": "loose-korea",
   "metadata": {},
   "outputs": [],
   "source": [
    "#call the function\n",
    "cleaned_abstract = []\n",
    "for t in data['abstract']:\n",
    "    cleaned_abstract.append(text_cleaner(t,1))"
   ]
  },
  {
   "cell_type": "code",
   "execution_count": 17,
   "id": "golden-advertising",
   "metadata": {},
   "outputs": [
    {
     "data": {
      "text/plain": [
       "['good quality dog food',\n",
       " 'not as advertised',\n",
       " 'delight says it all',\n",
       " 'cough medicine',\n",
       " 'great taffy',\n",
       " 'nice taffy',\n",
       " 'great just as good as the expensive brands',\n",
       " 'wonderful tasty taffy',\n",
       " 'yay barley',\n",
       " 'healthy dog food']"
      ]
     },
     "execution_count": 17,
     "metadata": {},
     "output_type": "execute_result"
    }
   ],
   "source": [
    "cleaned_abstract[:10]"
   ]
  },
  {
   "cell_type": "code",
   "execution_count": 18,
   "id": "direct-blast",
   "metadata": {},
   "outputs": [],
   "source": [
    "#restore values of text / abstract after cleaning process \n",
    "data['cleaned_text']=cleaned_text\n",
    "data['cleaned_abstract']=cleaned_abstract"
   ]
  },
  {
   "cell_type": "code",
   "execution_count": 19,
   "id": "saved-whole",
   "metadata": {},
   "outputs": [],
   "source": [
    "#remove empty spaces and NA ones\n",
    "data.replace('', np.nan, inplace=True)\n",
    "data.dropna(axis=0,inplace=True)"
   ]
  },
  {
   "cell_type": "code",
   "execution_count": 20,
   "id": "accredited-technician",
   "metadata": {},
   "outputs": [
    {
     "data": {
      "image/png": "[encoded data removed]",
      "text/plain": [
       "<Figure size 432x288 with 2 Axes>"
      ]
     },
     "metadata": {
      "needs_background": "light"
     },
     "output_type": "display_data"
    }
   ],
   "source": [
    "\n",
    "# find the length of sentences in each TEXT / Summay to know the MIN.MAX ranges length\n",
    "import matplotlib.pyplot as plt\n",
    "\n",
    "text_word_count = []\n",
    "abstract_word_count = []\n",
    "\n",
    "# populate the lists with sentence lengths\n",
    "for i in data['cleaned_text']:\n",
    "      text_word_count.append(len(i.split()))\n",
    "\n",
    "for i in data['cleaned_abstract']:\n",
    "      abstract_word_count.append(len(i.split()))\n",
    "\n",
    "length_df = pd.DataFrame({'text':text_word_count, 'abstract':abstract_word_count})\n",
    "\n",
    "length_df.hist(bins = 50)\n",
    "plt.show()"
   ]
  },
  {
   "cell_type": "code",
   "execution_count": 21,
   "id": "incomplete-windsor",
   "metadata": {},
   "outputs": [],
   "source": [
    "# limit the length of MAX \n",
    "max_text_len=30\n",
    "max_abstract_len=8"
   ]
  },
  {
   "cell_type": "code",
   "execution_count": 22,
   "id": "coral-seven",
   "metadata": {},
   "outputs": [],
   "source": [
    "# remove the shorter ones than the MAX (max_text_len) limite above (remove anomalies to enhance the model)\n",
    "cleaned_text =np.array(data['cleaned_text'])\n",
    "cleaned_abstract=np.array(data['cleaned_abstract'])\n",
    "\n",
    "short_text=[]\n",
    "short_abstract=[]\n",
    "\n",
    "for i in range(len(cleaned_text)):\n",
    "    if(len(cleaned_abstract[i].split())<=max_abstract_len and len(cleaned_text[i].split())<=max_text_len):\n",
    "        short_text.append(cleaned_text[i])\n",
    "        short_abstract.append(cleaned_abstract[i])\n",
    "        \n",
    "df=pd.DataFrame({'text':short_text,'abstract':short_abstract})"
   ]
  },
  {
   "cell_type": "code",
   "execution_count": 23,
   "id": "bearing-variable",
   "metadata": {},
   "outputs": [],
   "source": [
    "# add START and END special tokens (StartTok EndToken)\n",
    "df['abstract'] = df['abstract'].apply(lambda x : 'sostok '+ x + ' eostok')"
   ]
  },
  {
   "cell_type": "code",
   "execution_count": 24,
   "id": "superb-contact",
   "metadata": {},
   "outputs": [],
   "source": [
    "# splitting the data 90/10 using train_test_split function\n",
    "from sklearn.model_selection import train_test_split\n",
    "x_train,x_validate,y_train,y_validate=train_test_split(np.array(df['text']),np.array(df['abstract']),test_size=0.2,random_state=0,shuffle=True)"
   ]
  },
  {
   "cell_type": "code",
   "execution_count": 25,
   "id": "smart-polyester",
   "metadata": {},
   "outputs": [],
   "source": [
    "#EPU_train, EPU_test = train_test_split(np.array(df['text']),np.array(df['abstract']),test_size=0.2)"
   ]
  },
  {
   "cell_type": "code",
   "execution_count": 26,
   "id": "macro-activation",
   "metadata": {},
   "outputs": [],
   "source": [
    "#Text Tokenizer \n",
    "\n",
    "from keras.preprocessing.text import Tokenizer \n",
    "from keras.preprocessing.sequence import pad_sequences\n",
    "\n",
    "#prepare a tokenizer for reviews on x_train data\n",
    "x_tokenizer = Tokenizer() \n",
    "x_tokenizer.fit_on_texts(list(x_train))"
   ]
  },
  {
   "cell_type": "code",
   "execution_count": 27,
   "id": "decimal-optimization",
   "metadata": {},
   "outputs": [
    {
     "name": "stdout",
     "output_type": "stream",
     "text": [
      "Number of rare words in vocabulary: 0.6600245898164243\n",
      "Total Coverage of rare words: 0.031248176630529916\n"
     ]
    }
   ],
   "source": [
    "\n",
    "# find the least used words by count limit here is 4times\n",
    "threshold=4 \n",
    "\n",
    "count=0\n",
    "tot_count=0\n",
    "freq=0\n",
    "tot_freq=0\n",
    "\n",
    "for key,value in x_tokenizer.word_counts.items():\n",
    "    tot_count=tot_count+1\n",
    "    tot_freq=tot_freq+value\n",
    "    if(value<threshold):\n",
    "        count=count+1\n",
    "        freq=freq+value\n",
    "    \n",
    "print(\"Number of rare words in vocabulary:\",(count/tot_count))\n",
    "print(\"Total Coverage of rare words:\",(freq/tot_freq))"
   ]
  },
  {
   "cell_type": "code",
   "execution_count": 28,
   "id": "excellent-uniform",
   "metadata": {},
   "outputs": [],
   "source": [
    "x_tokenizer = Tokenizer(num_words=tot_count-count) "
   ]
  },
  {
   "cell_type": "code",
   "execution_count": 29,
   "id": "ongoing-reproduction",
   "metadata": {},
   "outputs": [
    {
     "name": "stdout",
     "output_type": "stream",
     "text": [
      "8019\n"
     ]
    }
   ],
   "source": [
    "print(tot_count-count)"
   ]
  },
  {
   "cell_type": "code",
   "execution_count": 30,
   "id": "registered-activation",
   "metadata": {},
   "outputs": [],
   "source": [
    "#prepare a tokenizer for reviews on training x_vocabulary data [ tokenizer-->texts_to_sequences--->pad_sequences]\n",
    "words_count=tot_count-count #6716\n",
    "x_tokenizer = Tokenizer(num_words=6716) \n",
    "x_tokenizer.fit_on_texts(list(x_train))\n",
    "\n",
    "#convert text sequences into integer sequences texts_to_sequences\n",
    "x_train_seq    =   x_tokenizer.texts_to_sequences(x_train) \n",
    "x_validate_seq   =   x_tokenizer.texts_to_sequences(x_validate)\n",
    "\n",
    "#post padding  zero upto maximum length to unify the sentences lengths   \n",
    "x_train    =   pad_sequences(x_train_seq,  maxlen=max_text_len, padding='post')\n",
    "x_validate   =   pad_sequences(x_validate_seq, maxlen=max_text_len, padding='post')\n",
    "\n",
    "#size of vocabulary ( +1 for padding token)\n",
    "x_vocabulary   =  x_tokenizer.num_words + 1"
   ]
  },
  {
   "cell_type": "code",
   "execution_count": 31,
   "id": "beginning-subscriber",
   "metadata": {},
   "outputs": [
    {
     "data": {
      "text/plain": [
       "6717"
      ]
     },
     "execution_count": 31,
     "metadata": {},
     "output_type": "execute_result"
    }
   ],
   "source": [
    "x_vocabulary"
   ]
  },
  {
   "cell_type": "code",
   "execution_count": 32,
   "id": "czech-label",
   "metadata": {},
   "outputs": [],
   "source": [
    "#prepare a tokenizer for reviews on training data\n",
    "y_tokenizer = Tokenizer()   \n",
    "y_tokenizer.fit_on_texts(list(y_train))"
   ]
  },
  {
   "cell_type": "code",
   "execution_count": 33,
   "id": "chubby-interim",
   "metadata": {},
   "outputs": [
    {
     "name": "stdout",
     "output_type": "stream",
     "text": [
      "number of rare words in vocabulary: 0.786850969915205\n",
      "Total Coverage of rare words: 0.05761720726007163\n"
     ]
    }
   ],
   "source": [
    "threshold=6\n",
    "\n",
    "count=0\n",
    "tot_count=0\n",
    "freq=0\n",
    "tot_freq=0\n",
    "\n",
    "for key,value in y_tokenizer.word_counts.items():\n",
    "    tot_count=tot_count+1\n",
    "    tot_freq=tot_freq+value\n",
    "    if(value<threshold):\n",
    "        count=count+1\n",
    "        freq=freq+value\n",
    "    \n",
    "print(\"number of rare words in vocabulary:\",(count/tot_count))\n",
    "print(\"Total Coverage of rare words:\",(freq/tot_freq))"
   ]
  },
  {
   "cell_type": "code",
   "execution_count": 34,
   "id": "collectible-effectiveness",
   "metadata": {},
   "outputs": [
    {
     "name": "stdout",
     "output_type": "stream",
     "text": [
      "1835\n"
     ]
    }
   ],
   "source": [
    "words_count=tot_count-count\n",
    "print(words_count)"
   ]
  },
  {
   "cell_type": "code",
   "execution_count": 35,
   "id": "comparative-shuttle",
   "metadata": {},
   "outputs": [],
   "source": [
    "#prepare a tokenizer for reviews on y_tokenizer data [ tokenizer-->texts_to_sequences--->pad_sequences]\n",
    "\n",
    "words_count=tot_count-count\n",
    "y_tokenizer = Tokenizer(num_words=words_count) \n",
    "y_tokenizer.fit_on_texts(list(y_train))\n",
    "\n",
    "#convert text sequences into integer sequences using texts_to_sequences\n",
    "y_train_seq    =   y_tokenizer.texts_to_sequences(y_train) \n",
    "y_validate_seq   =   y_tokenizer.texts_to_sequences(y_validate) \n",
    "\n",
    "#padding zero upto maximum length\n",
    "y_train    =   pad_sequences(y_train_seq, maxlen=max_abstract_len, padding='post')\n",
    "y_validate   =   pad_sequences(y_validate_seq, maxlen=max_abstract_len, padding='post')\n",
    "\n",
    "#size of vocabulary\n",
    "y_vocabulary  =   y_tokenizer.num_words +1"
   ]
  },
  {
   "cell_type": "code",
   "execution_count": 36,
   "id": "macro-steal",
   "metadata": {},
   "outputs": [
    {
     "data": {
      "text/plain": [
       "(37744, 37744)"
      ]
     },
     "execution_count": 36,
     "metadata": {},
     "output_type": "execute_result"
    }
   ],
   "source": [
    "y_tokenizer.word_counts['sostok'],len(y_train) # those must be equal"
   ]
  },
  {
   "cell_type": "code",
   "execution_count": 37,
   "id": "eleven-spray",
   "metadata": {},
   "outputs": [],
   "source": [
    "from keras import backend as K\n",
    "from tensorflow.python.framework import ops\n",
    "ops.reset_default_graph()"
   ]
  },
  {
   "cell_type": "code",
   "execution_count": 38,
   "id": "special-renaissance",
   "metadata": {},
   "outputs": [],
   "source": [
    "import tensorflow as tf\n",
    "#K.clear_session()\n",
    "tf.keras.backend.clear_session()"
   ]
  },
  {
   "cell_type": "code",
   "execution_count": 39,
   "id": "needed-ownership",
   "metadata": {},
   "outputs": [],
   "source": [
    "# delete shot words\n",
    "\n",
    "ind=[]\n",
    "for i in range(len(y_validate)):\n",
    "    cnt=0\n",
    "    for j in y_validate[i]:\n",
    "        if j!=0:\n",
    "            cnt=cnt+1\n",
    "    if(cnt==2):\n",
    "        ind.append(i)\n",
    "\n",
    "y_validate=np.delete(y_validate,ind, axis=0)\n",
    "x_validate=np.delete(x_validate,ind, axis=0)"
   ]
  },
  {
   "cell_type": "code",
   "execution_count": 40,
   "id": "interracial-phoenix",
   "metadata": {},
   "outputs": [],
   "source": [
    "from tensorflow.keras.layers import Attention\n",
    "from attention import AttentionLayer"
   ]
  },
  {
   "cell_type": "code",
   "execution_count": 41,
   "id": "senior-gathering",
   "metadata": {},
   "outputs": [],
   "source": [
    "from attention import AttentionLayer"
   ]
  },
  {
   "cell_type": "code",
   "execution_count": 42,
   "id": "aggressive-wholesale",
   "metadata": {},
   "outputs": [
    {
     "name": "stdout",
     "output_type": "stream",
     "text": [
      "Model: \"model\"\n",
      "__________________________________________________________________________________________________\n",
      "Layer (type)                    Output Shape         Param #     Connected to                     \n",
      "==================================================================================================\n",
      "input_1 (InputLayer)            [(None, 30)]         0                                            \n",
      "__________________________________________________________________________________________________\n",
      "embedding (Embedding)           (None, 30, 100)      671700      input_1[0][0]                    \n",
      "__________________________________________________________________________________________________\n",
      "lstm (LSTM)                     [(None, 30, 300), (N 481200      embedding[0][0]                  \n",
      "__________________________________________________________________________________________________\n",
      "input_2 (InputLayer)            [(None, None)]       0                                            \n",
      "__________________________________________________________________________________________________\n",
      "lstm_1 (LSTM)                   [(None, 30, 300), (N 721200      lstm[0][0]                       \n",
      "__________________________________________________________________________________________________\n",
      "embedding_1 (Embedding)         (None, None, 100)    183600      input_2[0][0]                    \n",
      "__________________________________________________________________________________________________\n",
      "lstm_2 (LSTM)                   [(None, 30, 300), (N 721200      lstm_1[0][0]                     \n",
      "__________________________________________________________________________________________________\n",
      "lstm_3 (LSTM)                   [(None, None, 300),  481200      embedding_1[0][0]                \n",
      "                                                                 lstm_2[0][1]                     \n",
      "                                                                 lstm_2[0][2]                     \n",
      "__________________________________________________________________________________________________\n",
      "attention_layer (AttentionLayer ((None, None, 300),  180300      lstm_2[0][0]                     \n",
      "                                                                 lstm_3[0][0]                     \n",
      "__________________________________________________________________________________________________\n",
      "concat_layer (Concatenate)      (None, None, 600)    0           lstm_3[0][0]                     \n",
      "                                                                 attention_layer[0][0]            \n",
      "__________________________________________________________________________________________________\n",
      "time_distributed (TimeDistribut (None, None, 1836)   1103436     concat_layer[0][0]               \n",
      "==================================================================================================\n",
      "Total params: 4,543,836\n",
      "Trainable params: 4,543,836\n",
      "Non-trainable params: 0\n",
      "__________________________________________________________________________________________________\n"
     ]
    }
   ],
   "source": [
    "#building the Encoder model where it has Embedding-->3 LSTM Layers---> Attention Layer---> please review .H5 file for more info\n",
    "\n",
    "from keras import backend as K \n",
    "#K.clear_session()\n",
    "\n",
    "latent_dim = 300\n",
    "embedding_dim=100\n",
    "\n",
    "# Encoder\n",
    "encoder_inputs = Input(shape=(max_text_len,))\n",
    "\n",
    "#embedding layer\n",
    "enc_emb =  Embedding(x_vocabulary, embedding_dim,trainable=True)(encoder_inputs)\n",
    "\n",
    "#encoder lstm 1\n",
    "encoder_lstm1 = LSTM(latent_dim,return_sequences=True,return_state=True,dropout=0.4,recurrent_dropout=0.4)\n",
    "encoder_output1, state_h1, state_c1 = encoder_lstm1(enc_emb)\n",
    "\n",
    "#encoder lstm 2\n",
    "encoder_lstm2 = LSTM(latent_dim,return_sequences=True,return_state=True,dropout=0.4,recurrent_dropout=0.4)\n",
    "encoder_output2, state_h2, state_c2 = encoder_lstm2(encoder_output1)\n",
    "\n",
    "#encoder lstm 3\n",
    "encoder_lstm3=LSTM(latent_dim, return_state=True, return_sequences=True,dropout=0.4,recurrent_dropout=0.4)\n",
    "encoder_outputs, state_h, state_c= encoder_lstm3(encoder_output2)\n",
    "\n",
    "\n",
    "\n",
    "\n",
    "#building the decoder model where it has Embedding-->3 LSTM Layers---> Attention Layer--->  please review .H5 file for more info\n",
    "# Set up the decoder, using `encoder_states` as initial state.\n",
    "decoder_inputs = Input(shape=(None,))\n",
    "\n",
    "#embedding layer\n",
    "dec_emb_layer = Embedding(y_vocabulary, embedding_dim,trainable=True)\n",
    "dec_emb = dec_emb_layer(decoder_inputs)\n",
    "\n",
    "decoder_lstm = LSTM(latent_dim, return_sequences=True, return_state=True,dropout=0.4,recurrent_dropout=0.2)\n",
    "decoder_outputs,decoder_fwd_state, decoder_back_state = decoder_lstm(dec_emb,initial_state=[state_h, state_c])\n",
    "\n",
    "# Attention layer\n",
    "attn_layer = AttentionLayer(name='attention_layer')\n",
    "attn_out, attn_states = attn_layer([encoder_outputs, decoder_outputs])\n",
    "\n",
    "# Concat attention input and decoder LSTM output\n",
    "decoder_concat_input = Concatenate(axis=-1, name='concat_layer')([decoder_outputs, attn_out])\n",
    "\n",
    "#dense layer\n",
    "decoder_dense =  TimeDistributed(Dense(y_vocabulary, activation='softmax'))\n",
    "decoder_outputs = decoder_dense(decoder_concat_input)\n",
    "\n",
    "# Define the model \n",
    "model = Model([encoder_inputs, decoder_inputs], decoder_outputs)\n",
    "\n",
    "model.summary()"
   ]
  },
  {
   "cell_type": "code",
   "execution_count": 43,
   "id": "disturbed-virgin",
   "metadata": {},
   "outputs": [
    {
     "data": {
      "text/plain": [
       "tensorflow.python.keras.layers.dense_attention.Attention"
      ]
     },
     "execution_count": 43,
     "metadata": {},
     "output_type": "execute_result"
    }
   ],
   "source": [
    "tf.keras.layers.Attention"
   ]
  },
  {
   "cell_type": "code",
   "execution_count": 44,
   "id": "chemical-commissioner",
   "metadata": {},
   "outputs": [],
   "source": [
    "model.compile(optimizer='adam', loss='sparse_categorical_crossentropy')"
   ]
  },
  {
   "cell_type": "code",
   "execution_count": 45,
   "id": "grave-consumption",
   "metadata": {},
   "outputs": [],
   "source": [
    "#es = EarlyStopping(monitor='val_loss', mode='min', verbose=1,patience=2)\n",
    "es = EarlyStopping(patience=1, monitor='val_loss', restore_best_weights=True) #accuracy, loss, val_loss, val_accuracy"
   ]
  },
  {
   "cell_type": "code",
   "execution_count": 46,
   "id": "forbidden-drawing",
   "metadata": {},
   "outputs": [
    {
     "name": "stdout",
     "output_type": "stream",
     "text": [
      "Epoch 1/16\n",
      "295/295 [==============================] - 532s 2s/step - loss: 3.3619 - val_loss: 2.5959\n",
      "Epoch 2/16\n",
      "295/295 [==============================] - 556s 2s/step - loss: 2.5374 - val_loss: 2.4800\n",
      "Epoch 3/16\n",
      "295/295 [==============================] - 541s 2s/step - loss: 2.3948 - val_loss: 2.3945\n",
      "Epoch 4/16\n",
      "295/295 [==============================] - 556s 2s/step - loss: 2.3135 - val_loss: 2.3341\n",
      "Epoch 5/16\n",
      "295/295 [==============================] - 514s 2s/step - loss: 2.2388 - val_loss: 2.2789\n",
      "Epoch 6/16\n",
      "295/295 [==============================] - 515s 2s/step - loss: 2.1708 - val_loss: 2.1935\n",
      "Epoch 7/16\n",
      "295/295 [==============================] - 522s 2s/step - loss: 2.0669 - val_loss: 2.1413\n",
      "Epoch 8/16\n",
      "295/295 [==============================] - 523s 2s/step - loss: 1.9984 - val_loss: 2.1096\n",
      "Epoch 9/16\n",
      "295/295 [==============================] - 524s 2s/step - loss: 1.9262 - val_loss: 2.0816\n",
      "Epoch 10/16\n",
      "295/295 [==============================] - 527s 2s/step - loss: 1.8517 - val_loss: 2.0548\n",
      "Epoch 11/16\n",
      "295/295 [==============================] - 520s 2s/step - loss: 1.7992 - val_loss: 2.0426\n",
      "Epoch 12/16\n",
      "295/295 [==============================] - 520s 2s/step - loss: 1.7472 - val_loss: 2.0346\n",
      "Epoch 13/16\n",
      "295/295 [==============================] - 517s 2s/step - loss: 1.6924 - val_loss: 2.0362\n"
     ]
    }
   ],
   "source": [
    "history=model.fit([x_train,y_train[:,:-1]], y_train.reshape(y_train.shape[0],y_train.shape[1], 1)[:,1:] ,\n",
    "                  epochs=16,callbacks=[es],batch_size=128, \n",
    "                  validation_data=([x_validate,y_validate[:,:-1]], y_validate.reshape(y_validate.shape[0],y_validate.shape[1], 1)[:,1:]))\n",
    "model.save('encoder_decoder_17.h5')"
   ]
  },
  {
   "cell_type": "code",
   "execution_count": 47,
   "id": "returning-stand",
   "metadata": {},
   "outputs": [
    {
     "data": {
      "image/png": "[encoded data removed]",
      "text/plain": [
       "<Figure size 432x288 with 1 Axes>"
      ]
     },
     "metadata": {
      "needs_background": "light"
     },
     "output_type": "display_data"
    }
   ],
   "source": [
    "from matplotlib import pyplot\n",
    "pyplot.plot(history.history['loss'], label='train')\n",
    "pyplot.plot(history.history['val_loss'], label='test')\n",
    "pyplot.legend()\n",
    "pyplot.show()"
   ]
  },
  {
   "cell_type": "code",
   "execution_count": 48,
   "id": "involved-needle",
   "metadata": {},
   "outputs": [],
   "source": [
    "reverse_target_word_index=y_tokenizer.index_word\n",
    "reverse_source_word_index=x_tokenizer.index_word\n",
    "target_word_index=y_tokenizer.word_index"
   ]
  },
  {
   "cell_type": "code",
   "execution_count": null,
   "id": "spread-cutting",
   "metadata": {},
   "outputs": [],
   "source": []
  },
  {
   "cell_type": "code",
   "execution_count": 49,
   "id": "antique-harmony",
   "metadata": {},
   "outputs": [],
   "source": [
    "### inference layer\n",
    "# Encode the input sequence to get the feature vector\n",
    "encoder_model = Model(inputs=encoder_inputs,outputs=[encoder_outputs, state_h, state_c])\n",
    "\n",
    "# Decoder setup\n",
    "# Below tensors will hold the states of the previous time step\n",
    "decoder_state_input_h = Input(shape=(latent_dim,))\n",
    "decoder_state_input_c = Input(shape=(latent_dim,))\n",
    "decoder_hidden_state_input = Input(shape=(max_text_len,latent_dim))\n",
    "\n",
    "# Get the embeddings of the decoder sequence\n",
    "dec_emb2= dec_emb_layer(decoder_inputs) \n",
    "# To predict the next word in the sequence, set the initial states to the states from the previous time step\n",
    "decoder_outputs2, state_h2, state_c2 = decoder_lstm(dec_emb2, initial_state=[decoder_state_input_h, decoder_state_input_c])\n",
    "\n",
    "#attention inference\n",
    "attn_out_inf, attn_states_inf = attn_layer([decoder_hidden_state_input, decoder_outputs2])\n",
    "decoder_inf_concat = Concatenate(axis=-1, name='concat')([decoder_outputs2, attn_out_inf])\n",
    "\n",
    "# A dense softmax layer to generate prob dist. over the target vocabulary\n",
    "decoder_outputs2 = decoder_dense(decoder_inf_concat) \n",
    "\n",
    "# Final decoder model\n",
    "decoder_model = Model(\n",
    "    [decoder_inputs] + [decoder_hidden_state_input,decoder_state_input_h, decoder_state_input_c],\n",
    "    [decoder_outputs2] + [state_h2, state_c2])"
   ]
  },
  {
   "cell_type": "code",
   "execution_count": 50,
   "id": "material-scoop",
   "metadata": {},
   "outputs": [],
   "source": [
    "#@ prediction Phase"
   ]
  },
  {
   "cell_type": "code",
   "execution_count": 51,
   "id": "latin-seating",
   "metadata": {},
   "outputs": [],
   "source": [
    "#inference model \n",
    "\n",
    "def decode_sequence(input_seq):\n",
    "    # Encode the input as state vectors.\n",
    "    e_out, e_h, e_c = encoder_model.predict(input_seq)\n",
    "    \n",
    "    # Generate empty target sequence of length 1.\n",
    "    target_seq = np.zeros((1,1))\n",
    "    \n",
    "    # Populate the first word of target sequence with the start word.\n",
    "    target_seq[0, 0] = target_word_index['sostok']\n",
    "\n",
    "    stop_condition = False\n",
    "    decoded_sentence = ''\n",
    "    while not stop_condition:\n",
    "      \n",
    "        output_tokens, h, c = decoder_model.predict([target_seq] + [e_out, e_h, e_c])\n",
    "\n",
    "        # Sample a token\n",
    "        sampled_token_index = np.argmax(output_tokens[0, -1, :])\n",
    "        sampled_token = reverse_target_word_index[sampled_token_index]\n",
    "        \n",
    "        if(sampled_token!='eostok'):\n",
    "            decoded_sentence += ' '+sampled_token\n",
    "\n",
    "        # Exit condition: either hit max length or find stop word.\n",
    "        if (sampled_token == 'eostok'  or len(decoded_sentence.split()) >= (max_abstract_len-1)):\n",
    "            stop_condition = True\n",
    "\n",
    "        # Update the target sequence (of length 1).\n",
    "        target_seq = np.zeros((1,1))\n",
    "        target_seq[0, 0] = sampled_token_index\n",
    "\n",
    "        # Update internal states\n",
    "        e_h, e_c = h, c\n",
    "\n",
    "    return decoded_sentence"
   ]
  },
  {
   "cell_type": "code",
   "execution_count": 52,
   "id": "accomplished-landscape",
   "metadata": {},
   "outputs": [],
   "source": [
    "#this function takes sequences and return them to original abstract \n",
    "def seq2abstract(input_seq):\n",
    "    newString=''\n",
    "    for i in input_seq:\n",
    "        if((i!=0 and i!=target_word_index['sostok']) and i!=target_word_index['eostok']):\n",
    "            newString=newString+reverse_target_word_index[i]+' '\n",
    "    return newString\n",
    "#this function takes sequences and return them to original Text \n",
    "def seq2text(input_seq):\n",
    "    newString=''\n",
    "    for i in input_seq:\n",
    "        if(i!=0):\n",
    "            newString=newString+reverse_source_word_index[i]+' '\n",
    "    return newString"
   ]
  },
  {
   "cell_type": "code",
   "execution_count": 53,
   "id": "consistent-translator",
   "metadata": {
    "scrolled": false
   },
   "outputs": [
    {
     "name": "stdout",
     "output_type": "stream",
     "text": [
      "Review: fog chaser great bold body taste unlike brands leave harsh taste great product recommend \n",
      "Original abstract: great taste \n",
      "Predicted abstract:  great coffee\n",
      "\n",
      "\n",
      "Review: fish great fresh sea black years like remembered thank reminds home ordering fish \n",
      "Original abstract: great fish \n",
      "Predicted abstract:  great taste\n",
      "\n",
      "\n"
     ]
    }
   ],
   "source": [
    "# printing some predictions \n",
    "\n",
    "for i in range(0,2):\n",
    "    print(\"Review:\",seq2text(x_train[i]))\n",
    "    print(\"Original abstract:\",seq2abstract(y_train[i]))\n",
    "    print(\"Predicted abstract:\",decode_sequence(x_train[i].reshape(1,max_text_len)))\n",
    "    print(\"\\n\")"
   ]
  },
  {
   "cell_type": "code",
   "execution_count": 54,
   "id": "better-going",
   "metadata": {},
   "outputs": [
    {
     "name": "stdout",
     "output_type": "stream",
     "text": [
      "Review: simply bar simply fantastic love vegan high protein helpful need find alternative protein sources also provide amazing flavors favorite peanut butter one \n",
      "Original summary: simply awesome \n",
      "Predicted summary:  delicious\n",
      "\n",
      "\n",
      "Review: longer find flavored tea stores amazon place get thanks amazon \n",
      "Original summary: raspberry tea \n",
      "Predicted summary:  great tea\n",
      "\n",
      "\n"
     ]
    }
   ],
   "source": [
    "# printing some predictions \n",
    "for i in range(0,2):\n",
    "    print(\"Review:\",seq2text(x_validate[i]))\n",
    "    print(\"Original summary:\",seq2abstract(y_validate[i]))\n",
    "    print(\"Predicted summary:\",decode_sequence(x_validate[i].reshape(1,max_text_len)))\n",
    "    print(\"\\n\")"
   ]
  },
  {
   "cell_type": "code",
   "execution_count": 55,
   "id": "visible-morning",
   "metadata": {},
   "outputs": [],
   "source": [
    "EPU_seq = data[['abstract', 'Text']]"
   ]
  },
  {
   "cell_type": "code",
   "execution_count": 58,
   "id": "reflected-ribbon",
   "metadata": {},
   "outputs": [
    {
     "data": {
      "text/plain": [
       "88354"
      ]
     },
     "execution_count": 58,
     "metadata": {},
     "output_type": "execute_result"
    }
   ],
   "source": [
    "len(EPU_seq)"
   ]
  },
  {
   "cell_type": "code",
   "execution_count": 59,
   "id": "sound-pursuit",
   "metadata": {},
   "outputs": [],
   "source": [
    "EPU_train, EPU_test = train_test_split(EPU_seq, test_size=.10)"
   ]
  },
  {
   "cell_type": "code",
   "execution_count": 60,
   "id": "elder-praise",
   "metadata": {},
   "outputs": [
    {
     "name": "stdout",
     "output_type": "stream",
     "text": [
      "(79518, 2)\n",
      "(8836, 2)\n"
     ]
    }
   ],
   "source": [
    "print(EPU_train.shape)\n",
    "print(EPU_test.shape)"
   ]
  },
  {
   "cell_type": "code",
   "execution_count": 62,
   "id": "legitimate-walter",
   "metadata": {},
   "outputs": [
    {
     "data": {
      "text/plain": [
       "[1747, 1940, 1, 316, 770, 6, 807, 212, 691, 2217, 6, 1, 5, 38]"
      ]
     },
     "execution_count": 62,
     "metadata": {},
     "output_type": "execute_result"
    }
   ],
   "source": [
    "x_train_seq[0]"
   ]
  },
  {
   "cell_type": "code",
   "execution_count": 65,
   "id": "earned-characterization",
   "metadata": {},
   "outputs": [
    {
     "data": {
      "text/plain": [
       "66852                                              Extremely Good\n",
       "57579                                                 Over Priced\n",
       "58849                                                  Yam treats\n",
       "21264                                               Teenie Weenie\n",
       "93068    Yum... using leftover cooked roast chicken in the fridge\n",
       "                                   ...                           \n",
       "26595                                          What a great idea!\n",
       "33029                                 I like it but my kids don't\n",
       "39126                                                        bpa?\n",
       "40041                                  Thought I was going to die\n",
       "63721                                       It Just Wasn't For Me\n",
       "Name: abstract, Length: 79518, dtype: object"
      ]
     },
     "execution_count": 65,
     "metadata": {},
     "output_type": "execute_result"
    }
   ],
   "source": [
    "EPU_train['abstract']"
   ]
  },
  {
   "cell_type": "code",
   "execution_count": 70,
   "id": "israeli-outdoors",
   "metadata": {},
   "outputs": [
    {
     "data": {
      "text/plain": [
       "(37744,)"
      ]
     },
     "execution_count": 70,
     "metadata": {},
     "output_type": "execute_result"
    }
   ],
   "source": [
    "EPU_train['Text'][:37744].shape"
   ]
  },
  {
   "cell_type": "code",
   "execution_count": 69,
   "id": "sublime-rachel",
   "metadata": {},
   "outputs": [
    {
     "data": {
      "text/plain": [
       "(37744, 30)"
      ]
     },
     "execution_count": 69,
     "metadata": {},
     "output_type": "execute_result"
    }
   ],
   "source": [
    "x_train.shape"
   ]
  },
  {
   "cell_type": "code",
   "execution_count": 186,
   "id": "eleven-impossible",
   "metadata": {},
   "outputs": [],
   "source": [
    "###### this section I start using BLEU + ROUGE for Evaluation \n",
    "\n",
    "\n",
    "EPU_train['Text'][:37744] = [decode_sequence(sequence.reshape(1, max_text_len)) for sequence in x_train]\n",
    "\n",
    "EPU_train.to_csv('EPU complete_train_full01.csv')"
   ]
  },
  {
   "cell_type": "code",
   "execution_count": 187,
   "id": "upset-wages",
   "metadata": {},
   "outputs": [
    {
     "data": {
      "text/plain": [
       "(9158, 30)"
      ]
     },
     "execution_count": 187,
     "metadata": {},
     "output_type": "execute_result"
    }
   ],
   "source": [
    "x_validate.shape"
   ]
  },
  {
   "cell_type": "code",
   "execution_count": 193,
   "id": "dress-cameroon",
   "metadata": {},
   "outputs": [
    {
     "data": {
      "text/plain": [
       "' best olive oil'"
      ]
     },
     "execution_count": 193,
     "metadata": {},
     "output_type": "execute_result"
    }
   ],
   "source": [
    "decode_sequence(x_validate[2000].reshape(1, max_text_len))\n"
   ]
  },
  {
   "cell_type": "code",
   "execution_count": 188,
   "id": "innovative-spirit",
   "metadata": {},
   "outputs": [
    {
     "data": {
      "text/plain": [
       "(79518,)"
      ]
     },
     "execution_count": 188,
     "metadata": {},
     "output_type": "execute_result"
    }
   ],
   "source": [
    "EPU_train['Text'].shape"
   ]
  },
  {
   "cell_type": "code",
   "execution_count": 189,
   "id": "developed-relation",
   "metadata": {},
   "outputs": [
    {
     "data": {
      "text/plain": [
       "(8836,)"
      ]
     },
     "execution_count": 189,
     "metadata": {},
     "output_type": "execute_result"
    }
   ],
   "source": [
    "EPU_test['Text'].shape"
   ]
  },
  {
   "cell_type": "code",
   "execution_count": 194,
   "id": "centered-vegetable",
   "metadata": {},
   "outputs": [],
   "source": [
    "#change the shape to match here \n",
    "EPU_test['Text'][:8836] = [decode_sequence(sequence.reshape(1, max_text_len)) for sequence in x_validate[:8836]]\n",
    "EPU_test.to_csv('EPU complete_test_full01.csv')"
   ]
  },
  {
   "cell_type": "code",
   "execution_count": 206,
   "id": "floating-script",
   "metadata": {},
   "outputs": [],
   "source": [
    "#save them and read to array \n",
    "#EPU_train_full = pd.read_csv('complete_train_full00001.csv')\n",
    "EPU_test_full = pd.read_csv('complete_test_full00001.csv')"
   ]
  },
  {
   "cell_type": "code",
   "execution_count": 207,
   "id": "tired-husband",
   "metadata": {},
   "outputs": [],
   "source": [
    "test_df = pd.DataFrame()\n",
    "#test_df02 = pd.DataFrame()"
   ]
  },
  {
   "cell_type": "code",
   "execution_count": 208,
   "id": "pregnant-heaven",
   "metadata": {},
   "outputs": [],
   "source": [
    "sequences = [seq2text(x_validate[i]) for i in range(len(x_validate))]\n",
    "headlines = [seq2abstract(y_validate[i]) for i in range(len(y_validate))]"
   ]
  },
  {
   "cell_type": "code",
   "execution_count": 209,
   "id": "typical-commander",
   "metadata": {},
   "outputs": [
    {
     "data": {
      "text/plain": [
       "array([[  1, 247,  40, ...,   0,   0,   0],\n",
       "       [  1, 547,  14, ...,   0,   0,   0],\n",
       "       [  1,  16,   2, ...,   0,   0,   0],\n",
       "       ...,\n",
       "       [  1,  19,   4, ...,   0,   0,   0],\n",
       "       [  1,  40, 314, ...,   0,   0,   0],\n",
       "       [  1, 174,  89, ...,   2,   0,   0]])"
      ]
     },
     "execution_count": 209,
     "metadata": {},
     "output_type": "execute_result"
    }
   ],
   "source": [
    "y_validate[:200]"
   ]
  },
  {
   "cell_type": "code",
   "execution_count": 210,
   "id": "respected-failing",
   "metadata": {},
   "outputs": [],
   "source": [
    "#y_validate --test_sequences_headline\n",
    "#x_validate--test_sequences_article"
   ]
  },
  {
   "cell_type": "code",
   "execution_count": 211,
   "id": "remarkable-contest",
   "metadata": {},
   "outputs": [],
   "source": [
    "test_df['Text'] = sequences\n",
    "test_df['abstract'] = headlines\n",
    "test_df['Headline_Gen'] = EPU_test_full['Headline_Gen']"
   ]
  },
  {
   "cell_type": "code",
   "execution_count": 212,
   "id": "artistic-suffering",
   "metadata": {},
   "outputs": [
    {
     "data": {
      "text/plain": [
       "array([[   1,  247,   40, ...,    0,    0,    0],\n",
       "       [   1,  547,   14, ...,    0,    0,    0],\n",
       "       [   1,   16,    2, ...,    0,    0,    0],\n",
       "       ...,\n",
       "       [   1,    3,   52, ...,    0,    0,    0],\n",
       "       [   1,    9,   17, ...,    0,    0,    0],\n",
       "       [   1, 1619,   91, ...,    0,    0,    0]])"
      ]
     },
     "execution_count": 212,
     "metadata": {},
     "output_type": "execute_result"
    }
   ],
   "source": [
    "y_validate"
   ]
  },
  {
   "cell_type": "code",
   "execution_count": 222,
   "id": "accurate-crash",
   "metadata": {},
   "outputs": [],
   "source": [
    "EPU_train_full = pd.read_csv('complete_train_full00001.csv')\n"
   ]
  },
  {
   "cell_type": "code",
   "execution_count": 223,
   "id": "environmental-functionality",
   "metadata": {},
   "outputs": [
    {
     "data": {
      "text/html": [
       "<div>\n",
       "<style scoped>\n",
       "    .dataframe tbody tr th:only-of-type {\n",
       "        vertical-align: middle;\n",
       "    }\n",
       "\n",
       "    .dataframe tbody tr th {\n",
       "        vertical-align: top;\n",
       "    }\n",
       "\n",
       "    .dataframe thead th {\n",
       "        text-align: right;\n",
       "    }\n",
       "</style>\n",
       "<table border=\"1\" class=\"dataframe\">\n",
       "  <thead>\n",
       "    <tr style=\"text-align: right;\">\n",
       "      <th></th>\n",
       "      <th>Unnamed: 0</th>\n",
       "      <th>abstract</th>\n",
       "      <th>Headline_Gen</th>\n",
       "    </tr>\n",
       "  </thead>\n",
       "  <tbody>\n",
       "    <tr>\n",
       "      <th>0</th>\n",
       "      <td>66852</td>\n",
       "      <td>Extremely Good</td>\n",
       "      <td>great coffee</td>\n",
       "    </tr>\n",
       "    <tr>\n",
       "      <th>1</th>\n",
       "      <td>57579</td>\n",
       "      <td>Over Priced</td>\n",
       "      <td>great taste</td>\n",
       "    </tr>\n",
       "    <tr>\n",
       "      <th>2</th>\n",
       "      <td>58849</td>\n",
       "      <td>Yam treats</td>\n",
       "      <td>not bad</td>\n",
       "    </tr>\n",
       "    <tr>\n",
       "      <th>3</th>\n",
       "      <td>21264</td>\n",
       "      <td>Teenie Weenie</td>\n",
       "      <td>great coffee</td>\n",
       "    </tr>\n",
       "    <tr>\n",
       "      <th>4</th>\n",
       "      <td>93068</td>\n",
       "      <td>Yum... using leftover cooked roast chicken in the fridge</td>\n",
       "      <td>great rice</td>\n",
       "    </tr>\n",
       "    <tr>\n",
       "      <th>...</th>\n",
       "      <td>...</td>\n",
       "      <td>...</td>\n",
       "      <td>...</td>\n",
       "    </tr>\n",
       "    <tr>\n",
       "      <th>79513</th>\n",
       "      <td>26595</td>\n",
       "      <td>What a great idea!</td>\n",
       "      <td>Probiotics and cereal in one - a great idea!!! My twins love this cereal and so do I!</td>\n",
       "    </tr>\n",
       "    <tr>\n",
       "      <th>79514</th>\n",
       "      <td>33029</td>\n",
       "      <td>I like it but my kids don't</td>\n",
       "      <td>I think it tastes great but my kids don't like the way it looks or tastes.  I'll drink it and use it in smoothies for myself, happily.</td>\n",
       "    </tr>\n",
       "    <tr>\n",
       "      <th>79515</th>\n",
       "      <td>39126</td>\n",
       "      <td>bpa?</td>\n",
       "      <td>Muir Glen cans are lined in plastic and leach Bisphenol A. Too bad because this was a great product and was a standard in my household. My initial conversations with them they contradicted this fa...</td>\n",
       "    </tr>\n",
       "    <tr>\n",
       "      <th>79516</th>\n",
       "      <td>40041</td>\n",
       "      <td>Thought I was going to die</td>\n",
       "      <td>Tried this sauce on a chip, about four drops worth, half an hour later i was laying on the floor in the bathroom with the thought and feeling i was dying.. I was warned to only take a little drop....</td>\n",
       "    </tr>\n",
       "    <tr>\n",
       "      <th>79517</th>\n",
       "      <td>63721</td>\n",
       "      <td>It Just Wasn't For Me</td>\n",
       "      <td>I found this drink to be bitter, sharp, and almost flavorless. I was very surprised after really liking another flavor in this brand (Maybe I got a bad can?). I even had my husband try it to share...</td>\n",
       "    </tr>\n",
       "  </tbody>\n",
       "</table>\n",
       "<p>79518 rows × 3 columns</p>\n",
       "</div>"
      ],
      "text/plain": [
       "       Unnamed: 0                                                  abstract  \\\n",
       "0           66852                                            Extremely Good   \n",
       "1           57579                                               Over Priced   \n",
       "2           58849                                                Yam treats   \n",
       "3           21264                                             Teenie Weenie   \n",
       "4           93068  Yum... using leftover cooked roast chicken in the fridge   \n",
       "...           ...                                                       ...   \n",
       "79513       26595                                        What a great idea!   \n",
       "79514       33029                               I like it but my kids don't   \n",
       "79515       39126                                                      bpa?   \n",
       "79516       40041                                Thought I was going to die   \n",
       "79517       63721                                     It Just Wasn't For Me   \n",
       "\n",
       "                                                                                                                                                                                                  Headline_Gen  \n",
       "0                                                                                                                                                                                                 great coffee  \n",
       "1                                                                                                                                                                                                  great taste  \n",
       "2                                                                                                                                                                                                      not bad  \n",
       "3                                                                                                                                                                                                 great coffee  \n",
       "4                                                                                                                                                                                                   great rice  \n",
       "...                                                                                                                                                                                                        ...  \n",
       "79513                                                                                                                    Probiotics and cereal in one - a great idea!!! My twins love this cereal and so do I!  \n",
       "79514                                                                   I think it tastes great but my kids don't like the way it looks or tastes.  I'll drink it and use it in smoothies for myself, happily.  \n",
       "79515  Muir Glen cans are lined in plastic and leach Bisphenol A. Too bad because this was a great product and was a standard in my household. My initial conversations with them they contradicted this fa...  \n",
       "79516  Tried this sauce on a chip, about four drops worth, half an hour later i was laying on the floor in the bathroom with the thought and feeling i was dying.. I was warned to only take a little drop....  \n",
       "79517  I found this drink to be bitter, sharp, and almost flavorless. I was very surprised after really liking another flavor in this brand (Maybe I got a bad can?). I even had my husband try it to share...  \n",
       "\n",
       "[79518 rows x 3 columns]"
      ]
     },
     "execution_count": 223,
     "metadata": {},
     "output_type": "execute_result"
    }
   ],
   "source": [
    "EPU_train_full"
   ]
  },
  {
   "cell_type": "code",
   "execution_count": 224,
   "id": "piano-durham",
   "metadata": {},
   "outputs": [],
   "source": [
    "train_df = pd.DataFrame()"
   ]
  },
  {
   "cell_type": "code",
   "execution_count": 225,
   "id": "personalized-hungarian",
   "metadata": {},
   "outputs": [],
   "source": [
    "sequences = [seq2text(x_train[i]) for i in range(len(x_train))]\n",
    "headlines = [seq2abstract(y_train[i]) for i in range(len(y_train))]"
   ]
  },
  {
   "cell_type": "code",
   "execution_count": 226,
   "id": "legitimate-allah",
   "metadata": {},
   "outputs": [],
   "source": [
    "train_df['Text'] = sequences\n",
    "train_df['abstract'] = headlines\n",
    "train_df['Headline_Gen'] = EPU_train_full['Headline_Gen'] "
   ]
  },
  {
   "cell_type": "code",
   "execution_count": 229,
   "id": "tutorial-humanity",
   "metadata": {},
   "outputs": [],
   "source": [
    "EPU_test_full_clean = test_df\n",
    "EPU_train_full_clean = train_df"
   ]
  },
  {
   "cell_type": "code",
   "execution_count": 230,
   "id": "concerned-store",
   "metadata": {},
   "outputs": [],
   "source": [
    "EPU_test_full_clean.to_csv('EPU_complete_train_full_FIXED.csv')\n",
    "EPU_train_full_clean.to_csv('EPU_complete_test_full_FIXED.csv')"
   ]
  },
  {
   "cell_type": "code",
   "execution_count": 231,
   "id": "polish-salem",
   "metadata": {},
   "outputs": [],
   "source": [
    "EPU_train_full = pd.read_csv('EPU_complete_train_full_FIXED.csv')\n",
    "EPU_test_full = pd.read_csv('EPU_complete_test_full_FIXED.csv')"
   ]
  },
  {
   "cell_type": "code",
   "execution_count": 235,
   "id": "corrected-injection",
   "metadata": {},
   "outputs": [],
   "source": [
    "rouge = Rouge()\n",
    "def rouge_scoring(row):\n",
    "\n",
    "    reference = str(row['abstract'])\n",
    "    candidate = str(row['Headline_Gen'])\n",
    "    score = rouge.get_scores(candidate, reference)[0]['rouge-1']['r']\n",
    "\n",
    "    return score"
   ]
  },
  {
   "cell_type": "code",
   "execution_count": 236,
   "id": "opened-validity",
   "metadata": {},
   "outputs": [],
   "source": [
    "EPU_train_full['ROUGE'] = EPU_train_full.apply(lambda row: rouge_scoring(row), axis=1)\n",
    "EPU_test_full['ROUGE'] = EPU_test_full.apply(lambda row: rouge_scoring(row), axis=1)"
   ]
  },
  {
   "cell_type": "code",
   "execution_count": 239,
   "id": "classical-hawaii",
   "metadata": {},
   "outputs": [],
   "source": [
    "def bleu_scoring(row):\n",
    "\n",
    "    reference = row['abstract']\n",
    "    candidate = row['Headline_Gen']\n",
    "\n",
    "    reference = [str(reference).split()]\n",
    "    candidate = str(candidate).split()\n",
    "    score = sentence_bleu(reference, candidate, weights=(1, 0, 0, 0))\n",
    "\n",
    "    return score"
   ]
  },
  {
   "cell_type": "code",
   "execution_count": 240,
   "id": "intense-regression",
   "metadata": {},
   "outputs": [],
   "source": [
    "EPU_train_full['BLEU'] = EPU_train_full.apply(lambda row: bleu_scoring(row), axis=1)\n",
    "EPU_test_full['BLEU'] = EPU_test_full.apply(lambda row: bleu_scoring(row), axis=1)"
   ]
  },
  {
   "cell_type": "code",
   "execution_count": null,
   "id": "incorrect-saudi",
   "metadata": {},
   "outputs": [],
   "source": [
    "def get_first_20(row):\n",
    "\n",
    "    first_20 = ' '.join([word for i, word in enumerate(row['Text'].split()) if i <=20])\n",
    "    return first_20"
   ]
  },
  {
   "cell_type": "code",
   "execution_count": 241,
   "id": "popular-density",
   "metadata": {},
   "outputs": [],
   "source": [
    "EPU_test_full['Baseline_ROUGE'] = EPU_test_full.apply(lambda row: rouge_scoring(row), axis=1)\n",
    "EPU_test_full['Baseline_BLEU'] = EPU_test_full.apply(lambda row: bleu_scoring(row), axis=1)"
   ]
  },
  {
   "cell_type": "code",
   "execution_count": 242,
   "id": "experienced-netherlands",
   "metadata": {},
   "outputs": [],
   "source": [
    "EPU_test_full.to_csv('complete_train_full_FIXED_W_SCORES.csv')"
   ]
  },
  {
   "cell_type": "code",
   "execution_count": 243,
   "id": "conservative-certification",
   "metadata": {},
   "outputs": [
    {
     "data": {
      "text/plain": [
       "(37744,)"
      ]
     },
     "execution_count": 243,
     "metadata": {},
     "output_type": "execute_result"
    }
   ],
   "source": [
    "EPU_test_full['abstract'].shape"
   ]
  },
  {
   "cell_type": "code",
   "execution_count": 244,
   "id": "disturbed-shape",
   "metadata": {},
   "outputs": [
    {
     "data": {
      "text/plain": [
       "(37744, 30)"
      ]
     },
     "execution_count": 244,
     "metadata": {},
     "output_type": "execute_result"
    }
   ],
   "source": [
    "x_train.shape"
   ]
  },
  {
   "cell_type": "code",
   "execution_count": 245,
   "id": "transsexual-vegetable",
   "metadata": {},
   "outputs": [
    {
     "data": {
      "text/plain": [
       "(9158, 30)"
      ]
     },
     "execution_count": 245,
     "metadata": {},
     "output_type": "execute_result"
    }
   ],
   "source": [
    "x_validate.shape"
   ]
  },
  {
   "cell_type": "code",
   "execution_count": 246,
   "id": "green-organic",
   "metadata": {},
   "outputs": [
    {
     "data": {
      "text/plain": [
       "(37744, 7)"
      ]
     },
     "execution_count": 246,
     "metadata": {},
     "output_type": "execute_result"
    }
   ],
   "source": [
    "y_train[:,:-1].shape"
   ]
  },
  {
   "cell_type": "code",
   "execution_count": 247,
   "id": "headed-switzerland",
   "metadata": {},
   "outputs": [
    {
     "data": {
      "text/plain": [
       "(47181,)"
      ]
     },
     "execution_count": 247,
     "metadata": {},
     "output_type": "execute_result"
    }
   ],
   "source": [
    "df['text'].shape"
   ]
  },
  {
   "cell_type": "code",
   "execution_count": null,
   "id": "compressed-context",
   "metadata": {},
   "outputs": [],
   "source": []
  },
  {
   "cell_type": "code",
   "execution_count": null,
   "id": "banned-prize",
   "metadata": {},
   "outputs": [],
   "source": []
  },
  {
   "cell_type": "code",
   "execution_count": null,
   "id": "frequent-instruction",
   "metadata": {},
   "outputs": [],
   "source": []
  },
  {
   "cell_type": "code",
   "execution_count": null,
   "id": "quality-motivation",
   "metadata": {},
   "outputs": [],
   "source": []
  },
  {
   "cell_type": "code",
   "execution_count": null,
   "id": "nuclear-course",
   "metadata": {},
   "outputs": [],
   "source": []
  },
  {
   "cell_type": "code",
   "execution_count": null,
   "id": "automatic-corporation",
   "metadata": {},
   "outputs": [],
   "source": []
  }
 ],
 "metadata": {
  "kernelspec": {
   "display_name": "Python [conda env:root] *",
   "language": "python",
   "name": "conda-root-py"
  },
  "language_info": {
   "codemirror_mode": {
    "name": "ipython",
    "version": 3
   },
   "file_extension": ".py",
   "mimetype": "text/x-python",
   "name": "python",
   "nbconvert_exporter": "python",
   "pygments_lexer": "ipython3",
   "version": "3.8.8"
  }
 },
 "nbformat": 4,
 "nbformat_minor": 5
}
